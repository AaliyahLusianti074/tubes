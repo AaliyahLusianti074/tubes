{
  "nbformat": 4,
  "nbformat_minor": 0,
  "metadata": {
    "colab": {
      "name": "ini_yg_benar100epoch.ipynb",
      "provenance": [],
      "collapsed_sections": []
    },
    "kernelspec": {
      "name": "python3",
      "display_name": "Python 3"
    },
    "language_info": {
      "name": "python"
    },
    "accelerator": "GPU"
  },
  "cells": [
    {
      "cell_type": "markdown",
      "source": [
        "# **Klasifikasi Kanker Kulit Menggunakan CNN (ResNet50)**"
      ],
      "metadata": {
        "id": "9T7muG7L-0PE"
      }
    },
    {
      "cell_type": "markdown",
      "source": [
        "* Pada program ini akan menjelaskan klasifikasi kanker kulit secara otomatis menggunakan Convolutional Neural Network (CNN). Program ini akan mencoba untuk mendeteksi 7 kelas kanker kulit yang berbeda menggunakan ResNet50 dan kemudian akan menganalisis untuk melihat bagaimana model dapat berguna dalam skenario praktis.\n",
        "\n",
        "* Dataset yang digunakan pada program ini adalah HAM10000, yang terdiri dari 10015 citra *dermoscopic* dengan ukuran (600x450) pxl. Dataset dapat diakses melalui web Kaggle pada link berikut : https://www.kaggle.com/datasets/kmader/skin-cancer-mnist-ham10000\n",
        "\n",
        "* Judul Referensi Jurnal Utama yaitu **Skin Lesion Analyser: An Efficient Seven-Way Multi-Class Skin Cancer Classification Using MobileNet**.\n",
        "Hasil akurasi yang didapatkan dalam jurnal ini dengan menggunakan model MobileNet yaitu: Cat Acc sebesar 83.1%, Top2 Acc sebesar 91.36%, Top3 Acc sebesar 95.34%. Kemudian untuk hasil Weighted Average dari precision, recall, dan f1-score yaitu sebesar 89%, 83%, dan 83%. \n",
        "\n",
        "\n",
        "* Parameter yang didapatkan dari jurnal referensi utama: \n",
        "** Spliting data : training set (9077 images) dan Validation set (938 images) \n",
        "** Batch size : 10\n",
        "** Optimizer : Adam \n",
        "** loss function : Categorical Crossentropy\n",
        "\n",
        "------------------------------------------------------------------------------------------------------------------------------------------------------------------------------------------------------------------------------------------------\n",
        "\n",
        "💡HASIL💡\n",
        "Hasil akurasi yang didapatkan dari program ini dengan menggunakan model Pre Trained ResNet50 yaitu : Cat Acc sebesar 88.7%, Top2 Acc sebesar 94.24%, Top3 Acc sebesar 98.08%. Kemudian untuk hasil Weighted Average dari precision, recall, dan f1-score yaitu sebesar 86%, 88%, dan 87%. \n",
        "\n",
        "------------------------------------------------------------------------------------------------------------------------------------------------------------------------------------------------------------------------------------------------\n",
        "\n",
        "💡 HASIL REVISI💡\n",
        "Hasil akurasi yang didapatkan dari program ini dengan menggunakan model Pre Trained ResNet50 yaitu : Cat Acc sebesar 90.62%, Top2 Acc sebesar 96.37%, Top3 Acc sebesar 98.93%. Kemudian untuk hasil Weighted Average dari precision, recall, dan f1-score yaitu sebesar 89%, 90%, dan 89%. 💡"
      ],
      "metadata": {
        "id": "1O3Ak7a6_Do9"
      }
    },
    {
      "cell_type": "markdown",
      "source": [
        "## Imports Library"
      ],
      "metadata": {
        "id": "e81pJaBpBp9G"
      }
    },
    {
      "cell_type": "code",
      "execution_count": null,
      "metadata": {
        "id": "iQHgP_Kw-SPB"
      },
      "outputs": [],
      "source": [
        "import os\n",
        "import shutil\n",
        "import keras \n",
        "\n",
        "import cv2\n",
        "import gc\n",
        "import keras\n",
        "import numpy as np\n",
        "import pandas as pd\n",
        "from keras.applications.resnet import ResNet50\n",
        "from keras.callbacks import EarlyStopping, ModelCheckpoint, ReduceLROnPlateau\n",
        "from keras.layers import (BatchNormalization, Dense, Dropout, Flatten)\n",
        "from keras.metrics import categorical_accuracy, top_k_categorical_accuracy\n",
        "from keras.models import Sequential\n",
        "from keras.preprocessing.image import ImageDataGenerator\n",
        "from tensorflow.keras.optimizers import Adam\n",
        "from matplotlib import pyplot as plt\n",
        "from sklearn.metrics import confusion_matrix, f1_score\n",
        "from sklearn.model_selection import train_test_split"
      ]
    },
    {
      "cell_type": "code",
      "source": [
        "from google.colab import drive\n",
        "drive.mount('/content/drive')"
      ],
      "metadata": {
        "colab": {
          "base_uri": "https://localhost:8080/"
        },
        "id": "EkbSUJc0CGjf",
        "outputId": "743f3487-90ff-4b31-d379-2f70c85a661e"
      },
      "execution_count": null,
      "outputs": [
        {
          "output_type": "stream",
          "name": "stdout",
          "text": [
            "Mounted at /content/drive\n"
          ]
        }
      ]
    },
    {
      "cell_type": "code",
      "source": [
        "import os\n",
        "os.environ['KAGGLE_CONFIG_DIR'] = \"/content/drive/MyDrive/ML\""
      ],
      "metadata": {
        "id": "InhKkzWgCX0o"
      },
      "execution_count": null,
      "outputs": []
    },
    {
      "cell_type": "code",
      "source": [
        "%cd /content/drive/MyDrive/ML"
      ],
      "metadata": {
        "colab": {
          "base_uri": "https://localhost:8080/"
        },
        "id": "-V8JE_DqChje",
        "outputId": "ff4d45d9-c75d-4685-9b5c-5974d4a59eec"
      },
      "execution_count": null,
      "outputs": [
        {
          "output_type": "stream",
          "name": "stdout",
          "text": [
            "/content/drive/MyDrive/ML\n"
          ]
        }
      ]
    },
    {
      "cell_type": "code",
      "source": [
        "!kaggle datasets download -d kmader/skin-cancer-mnist-ham10000"
      ],
      "metadata": {
        "colab": {
          "base_uri": "https://localhost:8080/"
        },
        "id": "hoJCAILuEiNB",
        "outputId": "660195b0-bed7-4f12-a17f-8f765523bde6"
      },
      "execution_count": null,
      "outputs": [
        {
          "output_type": "stream",
          "name": "stdout",
          "text": [
            "Downloading skin-cancer-mnist-ham10000.zip to /content/drive/MyDrive/ML\n",
            "100% 5.19G/5.20G [00:26<00:00, 202MB/s]\n",
            "100% 5.20G/5.20G [00:26<00:00, 211MB/s]\n"
          ]
        }
      ]
    },
    {
      "cell_type": "code",
      "source": [
        "ls"
      ],
      "metadata": {
        "colab": {
          "base_uri": "https://localhost:8080/"
        },
        "id": "g_C2siITD34U",
        "outputId": "2498074a-8266-4e53-8aa0-23e6420fc4a7"
      },
      "execution_count": null,
      "outputs": [
        {
          "output_type": "stream",
          "name": "stdout",
          "text": [
            "kaggle.json  skin-cancer-mnist-ham10000.zip\n"
          ]
        }
      ]
    },
    {
      "cell_type": "code",
      "source": [
        "!unzip \\*.zip &> /dev/null && rm *.zip"
      ],
      "metadata": {
        "id": "To7h-mLTEu1l"
      },
      "execution_count": null,
      "outputs": []
    },
    {
      "cell_type": "code",
      "execution_count": null,
      "metadata": {
        "id": "CvquAbjkm2Rs",
        "colab": {
          "base_uri": "https://localhost:8080/",
          "height": 206
        },
        "outputId": "ce78ff4d-b171-4a1a-f017-e7c7e1f83667"
      },
      "outputs": [
        {
          "output_type": "execute_result",
          "data": {
            "text/plain": [
              "     lesion_id      image_id   dx dx_type   age   sex localization\n",
              "0  HAM_0000118  ISIC_0027419  bkl   histo  80.0  male        scalp\n",
              "1  HAM_0000118  ISIC_0025030  bkl   histo  80.0  male        scalp\n",
              "2  HAM_0002730  ISIC_0026769  bkl   histo  80.0  male        scalp\n",
              "3  HAM_0002730  ISIC_0025661  bkl   histo  80.0  male        scalp\n",
              "4  HAM_0001466  ISIC_0031633  bkl   histo  75.0  male          ear"
            ],
            "text/html": [
              "\n",
              "  <div id=\"df-03a69a62-c9c6-4e82-bcbd-df39a31d6d2a\">\n",
              "    <div class=\"colab-df-container\">\n",
              "      <div>\n",
              "<style scoped>\n",
              "    .dataframe tbody tr th:only-of-type {\n",
              "        vertical-align: middle;\n",
              "    }\n",
              "\n",
              "    .dataframe tbody tr th {\n",
              "        vertical-align: top;\n",
              "    }\n",
              "\n",
              "    .dataframe thead th {\n",
              "        text-align: right;\n",
              "    }\n",
              "</style>\n",
              "<table border=\"1\" class=\"dataframe\">\n",
              "  <thead>\n",
              "    <tr style=\"text-align: right;\">\n",
              "      <th></th>\n",
              "      <th>lesion_id</th>\n",
              "      <th>image_id</th>\n",
              "      <th>dx</th>\n",
              "      <th>dx_type</th>\n",
              "      <th>age</th>\n",
              "      <th>sex</th>\n",
              "      <th>localization</th>\n",
              "    </tr>\n",
              "  </thead>\n",
              "  <tbody>\n",
              "    <tr>\n",
              "      <th>0</th>\n",
              "      <td>HAM_0000118</td>\n",
              "      <td>ISIC_0027419</td>\n",
              "      <td>bkl</td>\n",
              "      <td>histo</td>\n",
              "      <td>80.0</td>\n",
              "      <td>male</td>\n",
              "      <td>scalp</td>\n",
              "    </tr>\n",
              "    <tr>\n",
              "      <th>1</th>\n",
              "      <td>HAM_0000118</td>\n",
              "      <td>ISIC_0025030</td>\n",
              "      <td>bkl</td>\n",
              "      <td>histo</td>\n",
              "      <td>80.0</td>\n",
              "      <td>male</td>\n",
              "      <td>scalp</td>\n",
              "    </tr>\n",
              "    <tr>\n",
              "      <th>2</th>\n",
              "      <td>HAM_0002730</td>\n",
              "      <td>ISIC_0026769</td>\n",
              "      <td>bkl</td>\n",
              "      <td>histo</td>\n",
              "      <td>80.0</td>\n",
              "      <td>male</td>\n",
              "      <td>scalp</td>\n",
              "    </tr>\n",
              "    <tr>\n",
              "      <th>3</th>\n",
              "      <td>HAM_0002730</td>\n",
              "      <td>ISIC_0025661</td>\n",
              "      <td>bkl</td>\n",
              "      <td>histo</td>\n",
              "      <td>80.0</td>\n",
              "      <td>male</td>\n",
              "      <td>scalp</td>\n",
              "    </tr>\n",
              "    <tr>\n",
              "      <th>4</th>\n",
              "      <td>HAM_0001466</td>\n",
              "      <td>ISIC_0031633</td>\n",
              "      <td>bkl</td>\n",
              "      <td>histo</td>\n",
              "      <td>75.0</td>\n",
              "      <td>male</td>\n",
              "      <td>ear</td>\n",
              "    </tr>\n",
              "  </tbody>\n",
              "</table>\n",
              "</div>\n",
              "      <button class=\"colab-df-convert\" onclick=\"convertToInteractive('df-03a69a62-c9c6-4e82-bcbd-df39a31d6d2a')\"\n",
              "              title=\"Convert this dataframe to an interactive table.\"\n",
              "              style=\"display:none;\">\n",
              "        \n",
              "  <svg xmlns=\"http://www.w3.org/2000/svg\" height=\"24px\"viewBox=\"0 0 24 24\"\n",
              "       width=\"24px\">\n",
              "    <path d=\"M0 0h24v24H0V0z\" fill=\"none\"/>\n",
              "    <path d=\"M18.56 5.44l.94 2.06.94-2.06 2.06-.94-2.06-.94-.94-2.06-.94 2.06-2.06.94zm-11 1L8.5 8.5l.94-2.06 2.06-.94-2.06-.94L8.5 2.5l-.94 2.06-2.06.94zm10 10l.94 2.06.94-2.06 2.06-.94-2.06-.94-.94-2.06-.94 2.06-2.06.94z\"/><path d=\"M17.41 7.96l-1.37-1.37c-.4-.4-.92-.59-1.43-.59-.52 0-1.04.2-1.43.59L10.3 9.45l-7.72 7.72c-.78.78-.78 2.05 0 2.83L4 21.41c.39.39.9.59 1.41.59.51 0 1.02-.2 1.41-.59l7.78-7.78 2.81-2.81c.8-.78.8-2.07 0-2.86zM5.41 20L4 18.59l7.72-7.72 1.47 1.35L5.41 20z\"/>\n",
              "  </svg>\n",
              "      </button>\n",
              "      \n",
              "  <style>\n",
              "    .colab-df-container {\n",
              "      display:flex;\n",
              "      flex-wrap:wrap;\n",
              "      gap: 12px;\n",
              "    }\n",
              "\n",
              "    .colab-df-convert {\n",
              "      background-color: #E8F0FE;\n",
              "      border: none;\n",
              "      border-radius: 50%;\n",
              "      cursor: pointer;\n",
              "      display: none;\n",
              "      fill: #1967D2;\n",
              "      height: 32px;\n",
              "      padding: 0 0 0 0;\n",
              "      width: 32px;\n",
              "    }\n",
              "\n",
              "    .colab-df-convert:hover {\n",
              "      background-color: #E2EBFA;\n",
              "      box-shadow: 0px 1px 2px rgba(60, 64, 67, 0.3), 0px 1px 3px 1px rgba(60, 64, 67, 0.15);\n",
              "      fill: #174EA6;\n",
              "    }\n",
              "\n",
              "    [theme=dark] .colab-df-convert {\n",
              "      background-color: #3B4455;\n",
              "      fill: #D2E3FC;\n",
              "    }\n",
              "\n",
              "    [theme=dark] .colab-df-convert:hover {\n",
              "      background-color: #434B5C;\n",
              "      box-shadow: 0px 1px 3px 1px rgba(0, 0, 0, 0.15);\n",
              "      filter: drop-shadow(0px 1px 2px rgba(0, 0, 0, 0.3));\n",
              "      fill: #FFFFFF;\n",
              "    }\n",
              "  </style>\n",
              "\n",
              "      <script>\n",
              "        const buttonEl =\n",
              "          document.querySelector('#df-03a69a62-c9c6-4e82-bcbd-df39a31d6d2a button.colab-df-convert');\n",
              "        buttonEl.style.display =\n",
              "          google.colab.kernel.accessAllowed ? 'block' : 'none';\n",
              "\n",
              "        async function convertToInteractive(key) {\n",
              "          const element = document.querySelector('#df-03a69a62-c9c6-4e82-bcbd-df39a31d6d2a');\n",
              "          const dataTable =\n",
              "            await google.colab.kernel.invokeFunction('convertToInteractive',\n",
              "                                                     [key], {});\n",
              "          if (!dataTable) return;\n",
              "\n",
              "          const docLinkHtml = 'Like what you see? Visit the ' +\n",
              "            '<a target=\"_blank\" href=https://colab.research.google.com/notebooks/data_table.ipynb>data table notebook</a>'\n",
              "            + ' to learn more about interactive tables.';\n",
              "          element.innerHTML = '';\n",
              "          dataTable['output_type'] = 'display_data';\n",
              "          await google.colab.output.renderOutput(dataTable, element);\n",
              "          const docLink = document.createElement('div');\n",
              "          docLink.innerHTML = docLinkHtml;\n",
              "          element.appendChild(docLink);\n",
              "        }\n",
              "      </script>\n",
              "    </div>\n",
              "  </div>\n",
              "  "
            ]
          },
          "metadata": {},
          "execution_count": 8
        }
      ],
      "source": [
        "df_data = pd.read_csv(\"/content/drive/MyDrive/ML/HAM10000_metadata.csv\")\n",
        "df_data.head()"
      ]
    },
    {
      "cell_type": "code",
      "source": [
        "# Class yang terdapat pada dataset\n",
        "lesion_type_dict = {\n",
        "    'nv': 'Melanocytic nevi',\n",
        "    'mel': 'Melanoma',\n",
        "    'bkl': 'Benign keratosis ',\n",
        "    'bcc': 'Basal cell carcinoma',\n",
        "    'akiec': 'Actinic keratoses',\n",
        "    'vasc': 'Vascular lesions',\n",
        "    'df': 'Dermatofibroma'\n",
        "}\n",
        "df_data['lesion']= df_data.dx.map(lesion_type_dict)"
      ],
      "metadata": {
        "id": "DHXKADZ1dqSL"
      },
      "execution_count": null,
      "outputs": []
    },
    {
      "cell_type": "code",
      "execution_count": null,
      "metadata": {
        "id": "DeZ5r7j-Z286",
        "colab": {
          "base_uri": "https://localhost:8080/"
        },
        "outputId": "19247ed3-36e8-4c79-d690-b342bb020db5"
      },
      "outputs": [
        {
          "output_type": "execute_result",
          "data": {
            "text/plain": [
              "nv       6705\n",
              "mel      1113\n",
              "bkl      1099\n",
              "bcc       514\n",
              "akiec     327\n",
              "vasc      142\n",
              "df        115\n",
              "Name: dx, dtype: int64"
            ]
          },
          "metadata": {},
          "execution_count": 10
        }
      ],
      "source": [
        "df_data[\"dx\"].value_counts()"
      ]
    },
    {
      "cell_type": "code",
      "execution_count": null,
      "metadata": {
        "id": "lo5Z7lBSnHBJ",
        "colab": {
          "base_uri": "https://localhost:8080/"
        },
        "outputId": "b90a3a11-2c61-4e37-b699-9253ddd528a2"
      },
      "outputs": [
        {
          "output_type": "execute_result",
          "data": {
            "text/plain": [
              "nv       0.669496\n",
              "mel      0.111133\n",
              "bkl      0.109735\n",
              "bcc      0.051323\n",
              "akiec    0.032651\n",
              "vasc     0.014179\n",
              "df       0.011483\n",
              "Name: dx, dtype: float64"
            ]
          },
          "metadata": {},
          "execution_count": 11
        }
      ],
      "source": [
        "df_data[\"dx\"].value_counts() / df_data.shape[0]"
      ]
    },
    {
      "cell_type": "code",
      "execution_count": null,
      "metadata": {
        "id": "1gWsGnmKnJ58",
        "colab": {
          "base_uri": "https://localhost:8080/"
        },
        "outputId": "bc887b83-b0ab-4177-8382-610c6598cdfd"
      },
      "outputs": [
        {
          "output_type": "stream",
          "name": "stdout",
          "text": [
            "(450, 600, 3)\n"
          ]
        }
      ],
      "source": [
        "image_sample = cv2.imread(\"/content/drive/MyDrive/ML/ham10000_images_part_1/ISIC_0024306.jpg\")\n",
        "print(image_sample.shape)"
      ]
    },
    {
      "cell_type": "markdown",
      "source": [
        "## Exploratory Data Analysis"
      ],
      "metadata": {
        "id": "olZbtPHYI8yY"
      }
    },
    {
      "cell_type": "code",
      "source": [
        "df_data.isna().sum()"
      ],
      "metadata": {
        "colab": {
          "base_uri": "https://localhost:8080/"
        },
        "id": "aXVa1oCcI7yI",
        "outputId": "ac71b2e3-c8ab-4cf8-f7c1-b9e2002cf063"
      },
      "execution_count": null,
      "outputs": [
        {
          "output_type": "execute_result",
          "data": {
            "text/plain": [
              "lesion_id        0\n",
              "image_id         0\n",
              "dx               0\n",
              "dx_type          0\n",
              "age             57\n",
              "sex              0\n",
              "localization     0\n",
              "lesion           0\n",
              "dtype: int64"
            ]
          },
          "metadata": {},
          "execution_count": 13
        }
      ]
    },
    {
      "cell_type": "code",
      "source": [
        "umur = df_data['age'].mean()\n",
        "df_data['age'] = df_data['age'].fillna(umur)\n",
        "df_data.isna().sum()"
      ],
      "metadata": {
        "colab": {
          "base_uri": "https://localhost:8080/"
        },
        "id": "F23yTuGxJRTs",
        "outputId": "fe78999c-d805-4360-c2d6-2815f5e878dd"
      },
      "execution_count": null,
      "outputs": [
        {
          "output_type": "execute_result",
          "data": {
            "text/plain": [
              "lesion_id       0\n",
              "image_id        0\n",
              "dx              0\n",
              "dx_type         0\n",
              "age             0\n",
              "sex             0\n",
              "localization    0\n",
              "lesion          0\n",
              "dtype: int64"
            ]
          },
          "metadata": {},
          "execution_count": 14
        }
      ]
    },
    {
      "cell_type": "markdown",
      "metadata": {
        "id": "30Q15J7mFr5f"
      },
      "source": [
        "# Splitting Data"
      ]
    },
    {
      "cell_type": "code",
      "source": [
        "_, data_test = train_test_split(df_data, test_size=0.0936, random_state=101, stratify=df_data['dx'])\n",
        "\n",
        "data_test.shape[0]"
      ],
      "metadata": {
        "colab": {
          "base_uri": "https://localhost:8080/"
        },
        "id": "KoN4T4OAICyz",
        "outputId": "472ce666-9b71-473d-c272-164911c782f0"
      },
      "execution_count": null,
      "outputs": [
        {
          "output_type": "execute_result",
          "data": {
            "text/plain": [
              "938"
            ]
          },
          "metadata": {},
          "execution_count": 15
        }
      ]
    },
    {
      "cell_type": "code",
      "source": [
        "def identify_test_rows(x):\n",
        "    test_list = list(data_test['image_id'])\n",
        "    if str(x) in test_list:\n",
        "        return 'test'\n",
        "    else:\n",
        "        return 'train'\n",
        "\n",
        "df_data['train_or_test'] = df_data['image_id']\n",
        "df_data['train_or_test'] = df_data['train_or_test'].apply(identify_test_rows)\n",
        "   \n",
        "data_train = df_data[df_data['train_or_test'] == 'train']\n",
        "\n",
        "data_train.shape[0]"
      ],
      "metadata": {
        "id": "Utep5q9BIRPI",
        "colab": {
          "base_uri": "https://localhost:8080/"
        },
        "outputId": "9c129b7f-0685-4123-d0a2-1dc2fa55f290"
      },
      "execution_count": null,
      "outputs": [
        {
          "output_type": "execute_result",
          "data": {
            "text/plain": [
              "9077"
            ]
          },
          "metadata": {},
          "execution_count": 16
        }
      ]
    },
    {
      "cell_type": "code",
      "source": [
        "print(\"Data Train : \", len(data_train))\n",
        "data_train['dx'].value_counts()"
      ],
      "metadata": {
        "colab": {
          "base_uri": "https://localhost:8080/"
        },
        "id": "KSy2quujI7Wn",
        "outputId": "e566e35d-c8b0-4aa5-eac2-502f98448587"
      },
      "execution_count": null,
      "outputs": [
        {
          "output_type": "stream",
          "name": "stdout",
          "text": [
            "Data Train :  9077\n"
          ]
        },
        {
          "output_type": "execute_result",
          "data": {
            "text/plain": [
              "nv       6077\n",
              "mel      1009\n",
              "bkl       996\n",
              "bcc       466\n",
              "akiec     296\n",
              "vasc      129\n",
              "df        104\n",
              "Name: dx, dtype: int64"
            ]
          },
          "metadata": {},
          "execution_count": 17
        }
      ]
    },
    {
      "cell_type": "code",
      "source": [
        "print(\"Data Test : \", len(data_test))\n",
        "data_test['dx'].value_counts()"
      ],
      "metadata": {
        "colab": {
          "base_uri": "https://localhost:8080/"
        },
        "id": "kvmEFkwXI-a7",
        "outputId": "f3e03b50-98b1-4f0b-fd3e-e44294df8e83"
      },
      "execution_count": null,
      "outputs": [
        {
          "output_type": "stream",
          "name": "stdout",
          "text": [
            "Data Test :  938\n"
          ]
        },
        {
          "output_type": "execute_result",
          "data": {
            "text/plain": [
              "nv       628\n",
              "mel      104\n",
              "bkl      103\n",
              "bcc       48\n",
              "akiec     31\n",
              "vasc      13\n",
              "df        11\n",
              "Name: dx, dtype: int64"
            ]
          },
          "metadata": {},
          "execution_count": 18
        }
      ]
    },
    {
      "cell_type": "code",
      "source": [
        "df_data.set_index('image_id', inplace=True)"
      ],
      "metadata": {
        "id": "vtLA5_yNKc90"
      },
      "execution_count": null,
      "outputs": []
    },
    {
      "cell_type": "code",
      "source": [
        "base_dir = \"base_dir\"\n",
        "os.mkdir(base_dir)\n",
        "\n",
        "train_dir = os.path.join(base_dir, \"image_train\")\n",
        "os.mkdir(train_dir)\n",
        "\n",
        "test_dir = os.path.join(base_dir, \"image_test\")\n",
        "os.mkdir(test_dir)\n",
        "\n",
        "labels = list(df_data[\"dx\"].unique())\n",
        "\n",
        "for label in labels:\n",
        "    label_path_train = os.path.join(train_dir, label)\n",
        "    os.mkdir(label_path_train)\n",
        "    label_path_test = os.path.join(test_dir, label)\n",
        "    os.mkdir(label_path_test)"
      ],
      "metadata": {
        "id": "B6OP8mkgeOtf"
      },
      "execution_count": null,
      "outputs": []
    },
    {
      "cell_type": "code",
      "source": [
        "folder_1 = os.listdir('/content/drive/MyDrive/ML/ham10000_images_part_1')\n",
        "folder_2 = os.listdir('/content/drive/MyDrive/ML/ham10000_images_part_2')\n",
        "\n",
        "train_images = list(data_train['image_id'])\n",
        "test_images = list(data_test['image_id'])\n",
        "\n",
        "for image in train_images:\n",
        "    \n",
        "    fname = image + '.jpg'\n",
        "    label = df_data.loc[image,'dx']\n",
        "    \n",
        "    if fname in folder_1:\n",
        "        source_path = os.path.join('/content/drive/MyDrive/ML/ham10000_images_part_1', fname)\n",
        "        destination_path = os.path.join(train_dir, label, fname)\n",
        "        shutil.copyfile(source_path, destination_path)\n",
        "\n",
        "    if fname in folder_2:\n",
        "        source_path = os.path.join('/content/drive/MyDrive/ML/ham10000_images_part_2', fname)\n",
        "        destination_path = os.path.join(train_dir, label, fname)\n",
        "        shutil.copyfile(source_path, destination_path)\n",
        "\n",
        "\n",
        "for image in test_images:\n",
        "    \n",
        "    fname = image + '.jpg'\n",
        "    label = df_data.loc[image,'dx']\n",
        "    \n",
        "    if fname in folder_1:\n",
        "        source_path = os.path.join('/content/drive/MyDrive/ML/ham10000_images_part_1', fname)\n",
        "        destination_path = os.path.join(test_dir, label, fname)\n",
        "        shutil.copyfile(source_path, destination_path)\n",
        "\n",
        "    if fname in folder_2:\n",
        "        source_path = os.path.join('/content/drive/MyDrive/ML/ham10000_images_part_2', fname)\n",
        "        destination_path = os.path.join(test_dir, label, fname)\n",
        "        shutil.copyfile(source_path, destination_path)"
      ],
      "metadata": {
        "id": "a6Cq0pCeKk5n"
      },
      "execution_count": null,
      "outputs": []
    },
    {
      "cell_type": "code",
      "source": [
        "for label in labels:\n",
        "    print(label + \" train: \" + str(len(os.listdir(os.path.join(train_dir, label)))))\n",
        "print(\"\\n\")\n",
        "for label in labels:\n",
        "    print(label + \" test: \" + str(len(os.listdir(os.path.join(test_dir, label)))))"
      ],
      "metadata": {
        "id": "_cAFU76afVHW",
        "colab": {
          "base_uri": "https://localhost:8080/"
        },
        "outputId": "995e1923-4380-4587-e2da-56881fd7d79a"
      },
      "execution_count": null,
      "outputs": [
        {
          "output_type": "stream",
          "name": "stdout",
          "text": [
            "bkl train: 996\n",
            "nv train: 6077\n",
            "df train: 104\n",
            "mel train: 1009\n",
            "vasc train: 129\n",
            "bcc train: 466\n",
            "akiec train: 296\n",
            "\n",
            "\n",
            "bkl test: 103\n",
            "nv test: 628\n",
            "df test: 11\n",
            "mel test: 104\n",
            "vasc test: 13\n",
            "bcc test: 48\n",
            "akiec test: 31\n"
          ]
        }
      ]
    },
    {
      "cell_type": "markdown",
      "metadata": {
        "id": "MshWeVRaF1mo"
      },
      "source": [
        "# Augmentation Data"
      ]
    },
    {
      "cell_type": "code",
      "execution_count": null,
      "metadata": {
        "id": "e9svT1lMWF3W",
        "colab": {
          "base_uri": "https://localhost:8080/"
        },
        "outputId": "22b67c2e-2e78-4155-e217-af7e2d4001ba"
      },
      "outputs": [
        {
          "output_type": "stream",
          "name": "stdout",
          "text": [
            "Found 996 images belonging to 1 classes.\n",
            "Found 6077 images belonging to 1 classes.\n",
            "Found 104 images belonging to 1 classes.\n",
            "Found 1009 images belonging to 1 classes.\n",
            "Found 129 images belonging to 1 classes.\n",
            "Found 466 images belonging to 1 classes.\n",
            "Found 296 images belonging to 1 classes.\n"
          ]
        }
      ],
      "source": [
        "data_gen_param = {\n",
        "    \"rotation_range\": 180,\n",
        "    \"width_shift_range\": 0.1,\n",
        "    \"height_shift_range\": 0.1,\n",
        "    \"zoom_range\": 0.1,\n",
        "    \"horizontal_flip\": True,\n",
        "    \"vertical_flip\": True\n",
        "}\n",
        "data_generator = ImageDataGenerator(**data_gen_param)\n",
        "num_images_each_label = 6000\n",
        "\n",
        "aug_dir = os.path.join(base_dir, \"aug_dir\")\n",
        "os.mkdir(aug_dir)\n",
        "\n",
        "for label in labels:\n",
        "    \n",
        "    img_dir = os.path.join(aug_dir, \"aug_img\")\n",
        "    os.mkdir(img_dir)\n",
        "    \n",
        "    src_dir_label = os.path.join(train_dir, label)\n",
        "    for image_name in os.listdir(src_dir_label):\n",
        "        shutil.copy(os.path.join(src_dir_label, image_name), os.path.join(img_dir, image_name))\n",
        "    \n",
        "    batch_size = 10\n",
        "    data_flow_param = {\n",
        "        \"directory\": aug_dir,\n",
        "        \"color_mode\": \"rgb\",\n",
        "        \"batch_size\": batch_size,\n",
        "        \"shuffle\": True,\n",
        "        \"save_to_dir\": os.path.join(train_dir, label),\n",
        "        \"save_format\": \"jpg\"\n",
        "    }\n",
        "\n",
        "    aug_data_gen = data_generator.flow_from_directory(**data_flow_param)\n",
        "    \n",
        "    num_img_aug = num_images_each_label - len(os.listdir(os.path.join(train_dir, label)))\n",
        "    num_batch = int(num_img_aug / batch_size)\n",
        "    \n",
        "    for i in range(0, num_batch):\n",
        "        next(aug_data_gen)\n",
        "    \n",
        "    shutil.rmtree(img_dir)"
      ]
    },
    {
      "cell_type": "code",
      "execution_count": null,
      "metadata": {
        "id": "o_KkQBGEWQhd",
        "colab": {
          "base_uri": "https://localhost:8080/"
        },
        "outputId": "8ed94f69-fbe7-4e0c-cbbf-28d0b8ad4246"
      },
      "outputs": [
        {
          "output_type": "stream",
          "name": "stdout",
          "text": [
            "Data Train : \n",
            "Found 41550 images belonging to 7 classes.\n",
            "Data Test :\n",
            "Found 938 images belonging to 7 classes.\n"
          ]
        }
      ],
      "source": [
        "IMAGE_SHAPE = (224, 224, 3)\n",
        "\n",
        "train_flow_param = {\n",
        "    \"directory\": train_dir,\n",
        "    \"batch_size\": batch_size,\n",
        "    \"target_size\": IMAGE_SHAPE[:2],\n",
        "    \"shuffle\": True\n",
        "}\n",
        "print('Data Train : ')\n",
        "train_flow = data_generator.flow_from_directory(**train_flow_param)\n",
        "\n",
        "test_flow_param = {\n",
        "    \"directory\": test_dir,\n",
        "    \"batch_size\": batch_size,\n",
        "    \"target_size\": IMAGE_SHAPE[:2],\n",
        "    \"shuffle\": False\n",
        "}\n",
        "print('Data Test :')\n",
        "test_flow = data_generator.flow_from_directory(**test_flow_param)"
      ]
    },
    {
      "cell_type": "code",
      "execution_count": null,
      "metadata": {
        "id": "DK18k92Xg8Ok",
        "colab": {
          "base_uri": "https://localhost:8080/"
        },
        "outputId": "0c667881-cd63-4498-94b5-72e43efa17d3"
      },
      "outputs": [
        {
          "output_type": "stream",
          "name": "stdout",
          "text": [
            "bkl train: 5976\n",
            "nv train: 6077\n",
            "df train: 5676\n",
            "mel train: 5995\n",
            "vasc train: 5954\n",
            "bcc train: 5952\n",
            "akiec train: 5920\n",
            "\n",
            "\n",
            "bkl test: 103\n",
            "nv test: 628\n",
            "df test: 11\n",
            "mel test: 104\n",
            "vasc test: 13\n",
            "bcc test: 48\n",
            "akiec test: 31\n"
          ]
        }
      ],
      "source": [
        "#Menampilkan jumlah data train dan test perkelas\n",
        "for label in labels:\n",
        "    print(label + \" train: \" + str(len(os.listdir(os.path.join(train_dir, label)))))\n",
        "print(\"\\n\")\n",
        "for label in labels:\n",
        "    print(label + \" test: \" + str(len(os.listdir(os.path.join(test_dir, label)))))"
      ]
    },
    {
      "cell_type": "markdown",
      "source": [
        "## Train the Model ResNet50"
      ],
      "metadata": {
        "id": "B7bdyty-X2wN"
      }
    },
    {
      "cell_type": "code",
      "source": [
        "dropout_dense = 0.1\n",
        "\n",
        "resnet_model = ResNet50(input_shape=IMAGE_SHAPE, include_top=False, pooling=\"max\")\n",
        "\n",
        "model = Sequential()\n",
        "model.add(resnet_model)\n",
        "model.add(Dropout(dropout_dense))\n",
        "model.add(BatchNormalization())\n",
        "model.add(Dense(256, activation=\"relu\"))\n",
        "model.add(Dropout(dropout_dense))\n",
        "model.add(BatchNormalization())\n",
        "model.add(Dense(7, activation=\"softmax\"))\n",
        "\n",
        "def top_2_acc(y_true, y_pred):\n",
        "    return top_k_categorical_accuracy(y_true, y_pred, k=2)\n",
        "\n",
        "def top_3_acc(y_true, y_pred):\n",
        "    return top_k_categorical_accuracy(y_true, y_pred, k=3)\n",
        "\n",
        "model.compile(Adam(0.0001), loss=\"categorical_crossentropy\", metrics=[categorical_accuracy, top_2_acc, top_3_acc])"
      ],
      "metadata": {
        "id": "I6Z6GHa8XtbE",
        "colab": {
          "base_uri": "https://localhost:8080/"
        },
        "outputId": "9f48ad0b-06db-470b-e4ed-158067ad7993"
      },
      "execution_count": null,
      "outputs": [
        {
          "output_type": "stream",
          "name": "stdout",
          "text": [
            "Downloading data from https://storage.googleapis.com/tensorflow/keras-applications/resnet/resnet50_weights_tf_dim_ordering_tf_kernels_notop.h5\n",
            "94773248/94765736 [==============================] - 0s 0us/step\n",
            "94781440/94765736 [==============================] - 0s 0us/step\n"
          ]
        }
      ]
    },
    {
      "cell_type": "code",
      "source": [
        "model.summary()"
      ],
      "metadata": {
        "colab": {
          "base_uri": "https://localhost:8080/"
        },
        "id": "zh-xmwXFYS7P",
        "outputId": "b107719d-7e7b-41ff-9d47-5989e1e3b036"
      },
      "execution_count": null,
      "outputs": [
        {
          "output_type": "stream",
          "name": "stdout",
          "text": [
            "Model: \"sequential\"\n",
            "_________________________________________________________________\n",
            " Layer (type)                Output Shape              Param #   \n",
            "=================================================================\n",
            " resnet50 (Functional)       (None, 2048)              23587712  \n",
            "                                                                 \n",
            " dropout (Dropout)           (None, 2048)              0         \n",
            "                                                                 \n",
            " batch_normalization (BatchN  (None, 2048)             8192      \n",
            " ormalization)                                                   \n",
            "                                                                 \n",
            " dense (Dense)               (None, 256)               524544    \n",
            "                                                                 \n",
            " dropout_1 (Dropout)         (None, 256)               0         \n",
            "                                                                 \n",
            " batch_normalization_1 (Batc  (None, 256)              1024      \n",
            " hNormalization)                                                 \n",
            "                                                                 \n",
            " dense_1 (Dense)             (None, 7)                 1799      \n",
            "                                                                 \n",
            "=================================================================\n",
            "Total params: 24,123,271\n",
            "Trainable params: 24,065,543\n",
            "Non-trainable params: 57,728\n",
            "_________________________________________________________________\n"
          ]
        }
      ]
    },
    {
      "cell_type": "code",
      "source": [
        "len(model.layers)"
      ],
      "metadata": {
        "colab": {
          "base_uri": "https://localhost:8080/"
        },
        "id": "e9_6GwJRYqGB",
        "outputId": "4c0668aa-89b7-4a78-9227-35cc23b3c62e"
      },
      "execution_count": null,
      "outputs": [
        {
          "output_type": "execute_result",
          "data": {
            "text/plain": [
              "7"
            ]
          },
          "metadata": {},
          "execution_count": 28
        }
      ]
    },
    {
      "cell_type": "code",
      "source": [
        "filepath = \"model.h5\"\n",
        "\n",
        "checkpoint_param = {\n",
        "    \"filepath\": filepath,\n",
        "    \"monitor\": \"val_categorical_accuracy\",\n",
        "    \"verbose\": 1,\n",
        "    \"save_best_only\": True,\n",
        "    \"mode\": \"max\"\n",
        "}\n",
        "checkpoint = ModelCheckpoint(**checkpoint_param)\n",
        "\n",
        "lr_decay_params = {\n",
        "    \"monitor\": \"val_loss\",\n",
        "    \"factor\": 0.5,\n",
        "    \"patience\": 2,\n",
        "    \"min_lr\": 1e-5\n",
        "}\n",
        "lr_decay = ReduceLROnPlateau(**lr_decay_params)\n"
      ],
      "metadata": {
        "id": "Cm3GCCF4YsHQ"
      },
      "execution_count": null,
      "outputs": []
    },
    {
      "cell_type": "code",
      "source": [
        "fit_params = {\n",
        "    \"generator\": train_flow,\n",
        "    \"steps_per_epoch\": data_train.shape[0] // batch_size,\n",
        "    \"epochs\": 100,\n",
        "    \"verbose\": 1,\n",
        "    \"validation_data\": test_flow,\n",
        "    \"validation_steps\": data_test.shape[0] // batch_size,\n",
        "    \"callbacks\": [checkpoint, lr_decay]\n",
        "}\n",
        "print(\"Training the model...\")\n",
        "\n",
        "history = model.fit_generator(**fit_params)\n",
        "print(\"Done!\")"
      ],
      "metadata": {
        "colab": {
          "base_uri": "https://localhost:8080/"
        },
        "id": "Z0I6y4zrYyWr",
        "outputId": "7cc8fda4-4fff-4692-a26f-b0c3c65bae44"
      },
      "execution_count": null,
      "outputs": [
        {
          "output_type": "stream",
          "name": "stdout",
          "text": [
            "Training the model...\n"
          ]
        },
        {
          "output_type": "stream",
          "name": "stderr",
          "text": [
            "/usr/local/lib/python3.7/dist-packages/ipykernel_launcher.py:12: UserWarning: `Model.fit_generator` is deprecated and will be removed in a future version. Please use `Model.fit`, which supports generators.\n",
            "  if sys.path[0] == '':\n"
          ]
        },
        {
          "output_type": "stream",
          "name": "stdout",
          "text": [
            "Epoch 1/100\n",
            "907/907 [==============================] - ETA: 0s - loss: 1.2213 - categorical_accuracy: 0.5753 - top_2_acc: 0.7610 - top_3_acc: 0.8675\n",
            "Epoch 1: val_categorical_accuracy improved from -inf to 0.64624, saving model to model.h5\n",
            "907/907 [==============================] - 230s 232ms/step - loss: 1.2213 - categorical_accuracy: 0.5753 - top_2_acc: 0.7610 - top_3_acc: 0.8675 - val_loss: 1.0059 - val_categorical_accuracy: 0.6462 - val_top_2_acc: 0.8430 - val_top_3_acc: 0.9247 - lr: 1.0000e-04\n",
            "Epoch 2/100\n",
            "907/907 [==============================] - ETA: 0s - loss: 0.8919 - categorical_accuracy: 0.6804 - top_2_acc: 0.8539 - top_3_acc: 0.9308\n",
            "Epoch 2: val_categorical_accuracy improved from 0.64624 to 0.67312, saving model to model.h5\n",
            "907/907 [==============================] - 204s 225ms/step - loss: 0.8919 - categorical_accuracy: 0.6804 - top_2_acc: 0.8539 - top_3_acc: 0.9308 - val_loss: 0.9401 - val_categorical_accuracy: 0.6731 - val_top_2_acc: 0.8645 - val_top_3_acc: 0.9441 - lr: 1.0000e-04\n",
            "Epoch 3/100\n",
            "907/907 [==============================] - ETA: 0s - loss: 0.7586 - categorical_accuracy: 0.7229 - top_2_acc: 0.8867 - top_3_acc: 0.9529\n",
            "Epoch 3: val_categorical_accuracy improved from 0.67312 to 0.75161, saving model to model.h5\n",
            "907/907 [==============================] - 202s 223ms/step - loss: 0.7586 - categorical_accuracy: 0.7229 - top_2_acc: 0.8867 - top_3_acc: 0.9529 - val_loss: 0.7257 - val_categorical_accuracy: 0.7516 - val_top_2_acc: 0.8699 - val_top_3_acc: 0.9505 - lr: 1.0000e-04\n",
            "Epoch 4/100\n",
            "907/907 [==============================] - ETA: 0s - loss: 0.6752 - categorical_accuracy: 0.7531 - top_2_acc: 0.9064 - top_3_acc: 0.9625\n",
            "Epoch 4: val_categorical_accuracy did not improve from 0.75161\n",
            "907/907 [==============================] - 200s 221ms/step - loss: 0.6752 - categorical_accuracy: 0.7531 - top_2_acc: 0.9064 - top_3_acc: 0.9625 - val_loss: 1.2551 - val_categorical_accuracy: 0.5548 - val_top_2_acc: 0.7548 - val_top_3_acc: 0.8817 - lr: 1.0000e-04\n",
            "Epoch 5/100\n",
            "907/907 [==============================] - ETA: 0s - loss: 0.6327 - categorical_accuracy: 0.7738 - top_2_acc: 0.9106 - top_3_acc: 0.9644\n",
            "Epoch 5: val_categorical_accuracy improved from 0.75161 to 0.77849, saving model to model.h5\n",
            "907/907 [==============================] - 200s 221ms/step - loss: 0.6327 - categorical_accuracy: 0.7738 - top_2_acc: 0.9106 - top_3_acc: 0.9644 - val_loss: 0.5943 - val_categorical_accuracy: 0.7785 - val_top_2_acc: 0.9108 - val_top_3_acc: 0.9667 - lr: 1.0000e-04\n",
            "Epoch 6/100\n",
            "907/907 [==============================] - ETA: 0s - loss: 0.6061 - categorical_accuracy: 0.7817 - top_2_acc: 0.9159 - top_3_acc: 0.9655\n",
            "Epoch 6: val_categorical_accuracy did not improve from 0.77849\n",
            "907/907 [==============================] - 198s 218ms/step - loss: 0.6061 - categorical_accuracy: 0.7817 - top_2_acc: 0.9159 - top_3_acc: 0.9655 - val_loss: 0.8993 - val_categorical_accuracy: 0.6882 - val_top_2_acc: 0.8634 - val_top_3_acc: 0.9290 - lr: 1.0000e-04\n",
            "Epoch 7/100\n",
            "907/907 [==============================] - ETA: 0s - loss: 0.5496 - categorical_accuracy: 0.7979 - top_2_acc: 0.9299 - top_3_acc: 0.9753\n",
            "Epoch 7: val_categorical_accuracy did not improve from 0.77849\n",
            "907/907 [==============================] - 197s 217ms/step - loss: 0.5496 - categorical_accuracy: 0.7979 - top_2_acc: 0.9299 - top_3_acc: 0.9753 - val_loss: 0.6603 - val_categorical_accuracy: 0.7613 - val_top_2_acc: 0.9097 - val_top_3_acc: 0.9613 - lr: 1.0000e-04\n",
            "Epoch 8/100\n",
            "907/907 [==============================] - ETA: 0s - loss: 0.4443 - categorical_accuracy: 0.8384 - top_2_acc: 0.9506 - top_3_acc: 0.9851\n",
            "Epoch 8: val_categorical_accuracy improved from 0.77849 to 0.80645, saving model to model.h5\n",
            "907/907 [==============================] - 199s 219ms/step - loss: 0.4443 - categorical_accuracy: 0.8384 - top_2_acc: 0.9506 - top_3_acc: 0.9851 - val_loss: 0.5417 - val_categorical_accuracy: 0.8065 - val_top_2_acc: 0.9312 - val_top_3_acc: 0.9699 - lr: 5.0000e-05\n",
            "Epoch 9/100\n",
            "907/907 [==============================] - ETA: 0s - loss: 0.4033 - categorical_accuracy: 0.8539 - top_2_acc: 0.9564 - top_3_acc: 0.9863\n",
            "Epoch 9: val_categorical_accuracy improved from 0.80645 to 0.82366, saving model to model.h5\n",
            "907/907 [==============================] - 198s 218ms/step - loss: 0.4033 - categorical_accuracy: 0.8539 - top_2_acc: 0.9564 - top_3_acc: 0.9863 - val_loss: 0.5097 - val_categorical_accuracy: 0.8237 - val_top_2_acc: 0.9333 - val_top_3_acc: 0.9796 - lr: 5.0000e-05\n",
            "Epoch 10/100\n",
            "907/907 [==============================] - ETA: 0s - loss: 0.3768 - categorical_accuracy: 0.8642 - top_2_acc: 0.9591 - top_3_acc: 0.9882\n",
            "Epoch 10: val_categorical_accuracy did not improve from 0.82366\n",
            "907/907 [==============================] - 195s 215ms/step - loss: 0.3768 - categorical_accuracy: 0.8642 - top_2_acc: 0.9591 - top_3_acc: 0.9882 - val_loss: 0.6578 - val_categorical_accuracy: 0.7753 - val_top_2_acc: 0.9323 - val_top_3_acc: 0.9753 - lr: 5.0000e-05\n",
            "Epoch 11/100\n",
            "907/907 [==============================] - ETA: 0s - loss: 0.3568 - categorical_accuracy: 0.8760 - top_2_acc: 0.9639 - top_3_acc: 0.9899\n",
            "Epoch 11: val_categorical_accuracy did not improve from 0.82366\n",
            "907/907 [==============================] - 194s 214ms/step - loss: 0.3568 - categorical_accuracy: 0.8760 - top_2_acc: 0.9639 - top_3_acc: 0.9899 - val_loss: 0.4969 - val_categorical_accuracy: 0.8140 - val_top_2_acc: 0.9355 - val_top_3_acc: 0.9806 - lr: 5.0000e-05\n",
            "Epoch 12/100\n",
            "907/907 [==============================] - ETA: 0s - loss: 0.3325 - categorical_accuracy: 0.8785 - top_2_acc: 0.9685 - top_3_acc: 0.9922\n",
            "Epoch 12: val_categorical_accuracy did not improve from 0.82366\n",
            "907/907 [==============================] - 195s 214ms/step - loss: 0.3325 - categorical_accuracy: 0.8785 - top_2_acc: 0.9685 - top_3_acc: 0.9922 - val_loss: 0.5584 - val_categorical_accuracy: 0.8108 - val_top_2_acc: 0.9258 - val_top_3_acc: 0.9720 - lr: 5.0000e-05\n",
            "Epoch 13/100\n",
            "907/907 [==============================] - ETA: 0s - loss: 0.3130 - categorical_accuracy: 0.8840 - top_2_acc: 0.9708 - top_3_acc: 0.9943\n",
            "Epoch 13: val_categorical_accuracy improved from 0.82366 to 0.82796, saving model to model.h5\n",
            "907/907 [==============================] - 196s 216ms/step - loss: 0.3130 - categorical_accuracy: 0.8840 - top_2_acc: 0.9708 - top_3_acc: 0.9943 - val_loss: 0.4984 - val_categorical_accuracy: 0.8280 - val_top_2_acc: 0.9484 - val_top_3_acc: 0.9796 - lr: 5.0000e-05\n",
            "Epoch 14/100\n",
            "907/907 [==============================] - ETA: 0s - loss: 0.2724 - categorical_accuracy: 0.9008 - top_2_acc: 0.9783 - top_3_acc: 0.9939\n",
            "Epoch 14: val_categorical_accuracy improved from 0.82796 to 0.85806, saving model to model.h5\n",
            "907/907 [==============================] - 196s 216ms/step - loss: 0.2724 - categorical_accuracy: 0.9008 - top_2_acc: 0.9783 - top_3_acc: 0.9939 - val_loss: 0.4378 - val_categorical_accuracy: 0.8581 - val_top_2_acc: 0.9505 - val_top_3_acc: 0.9828 - lr: 2.5000e-05\n",
            "Epoch 15/100\n",
            "907/907 [==============================] - ETA: 0s - loss: 0.2416 - categorical_accuracy: 0.9104 - top_2_acc: 0.9813 - top_3_acc: 0.9953\n",
            "Epoch 15: val_categorical_accuracy did not improve from 0.85806\n",
            "907/907 [==============================] - 194s 214ms/step - loss: 0.2416 - categorical_accuracy: 0.9104 - top_2_acc: 0.9813 - top_3_acc: 0.9953 - val_loss: 0.4431 - val_categorical_accuracy: 0.8387 - val_top_2_acc: 0.9430 - val_top_3_acc: 0.9828 - lr: 2.5000e-05\n",
            "Epoch 16/100\n",
            "907/907 [==============================] - ETA: 0s - loss: 0.2270 - categorical_accuracy: 0.9169 - top_2_acc: 0.9838 - top_3_acc: 0.9963\n",
            "Epoch 16: val_categorical_accuracy did not improve from 0.85806\n",
            "907/907 [==============================] - 204s 224ms/step - loss: 0.2270 - categorical_accuracy: 0.9169 - top_2_acc: 0.9838 - top_3_acc: 0.9963 - val_loss: 0.4810 - val_categorical_accuracy: 0.8355 - val_top_2_acc: 0.9430 - val_top_3_acc: 0.9828 - lr: 2.5000e-05\n",
            "Epoch 17/100\n",
            "907/907 [==============================] - ETA: 0s - loss: 0.2041 - categorical_accuracy: 0.9261 - top_2_acc: 0.9851 - top_3_acc: 0.9975\n",
            "Epoch 17: val_categorical_accuracy did not improve from 0.85806\n",
            "907/907 [==============================] - 198s 218ms/step - loss: 0.2041 - categorical_accuracy: 0.9261 - top_2_acc: 0.9851 - top_3_acc: 0.9975 - val_loss: 0.4551 - val_categorical_accuracy: 0.8344 - val_top_2_acc: 0.9538 - val_top_3_acc: 0.9817 - lr: 1.2500e-05\n",
            "Epoch 18/100\n",
            "907/907 [==============================] - ETA: 0s - loss: 0.1927 - categorical_accuracy: 0.9272 - top_2_acc: 0.9867 - top_3_acc: 0.9982\n",
            "Epoch 18: val_categorical_accuracy improved from 0.85806 to 0.86022, saving model to model.h5\n",
            "907/907 [==============================] - 198s 218ms/step - loss: 0.1927 - categorical_accuracy: 0.9272 - top_2_acc: 0.9867 - top_3_acc: 0.9982 - val_loss: 0.4345 - val_categorical_accuracy: 0.8602 - val_top_2_acc: 0.9495 - val_top_3_acc: 0.9871 - lr: 1.2500e-05\n",
            "Epoch 19/100\n",
            "907/907 [==============================] - ETA: 0s - loss: 0.1870 - categorical_accuracy: 0.9338 - top_2_acc: 0.9877 - top_3_acc: 0.9971\n",
            "Epoch 19: val_categorical_accuracy did not improve from 0.86022\n",
            "907/907 [==============================] - 197s 217ms/step - loss: 0.1870 - categorical_accuracy: 0.9338 - top_2_acc: 0.9877 - top_3_acc: 0.9971 - val_loss: 0.4361 - val_categorical_accuracy: 0.8387 - val_top_2_acc: 0.9548 - val_top_3_acc: 0.9839 - lr: 1.2500e-05\n",
            "Epoch 20/100\n",
            "907/907 [==============================] - ETA: 0s - loss: 0.1804 - categorical_accuracy: 0.9352 - top_2_acc: 0.9879 - top_3_acc: 0.9982\n",
            "Epoch 20: val_categorical_accuracy did not improve from 0.86022\n",
            "907/907 [==============================] - 197s 217ms/step - loss: 0.1804 - categorical_accuracy: 0.9352 - top_2_acc: 0.9879 - top_3_acc: 0.9982 - val_loss: 0.4529 - val_categorical_accuracy: 0.8495 - val_top_2_acc: 0.9559 - val_top_3_acc: 0.9828 - lr: 1.2500e-05\n",
            "Epoch 21/100\n",
            "907/907 [==============================] - ETA: 0s - loss: 0.1683 - categorical_accuracy: 0.9372 - top_2_acc: 0.9906 - top_3_acc: 0.9988\n",
            "Epoch 21: val_categorical_accuracy did not improve from 0.86022\n",
            "907/907 [==============================] - 194s 214ms/step - loss: 0.1683 - categorical_accuracy: 0.9372 - top_2_acc: 0.9906 - top_3_acc: 0.9988 - val_loss: 0.4620 - val_categorical_accuracy: 0.8344 - val_top_2_acc: 0.9505 - val_top_3_acc: 0.9817 - lr: 1.0000e-05\n",
            "Epoch 22/100\n",
            "907/907 [==============================] - ETA: 0s - loss: 0.1564 - categorical_accuracy: 0.9421 - top_2_acc: 0.9903 - top_3_acc: 0.9972\n",
            "Epoch 22: val_categorical_accuracy did not improve from 0.86022\n",
            "907/907 [==============================] - 194s 214ms/step - loss: 0.1564 - categorical_accuracy: 0.9421 - top_2_acc: 0.9903 - top_3_acc: 0.9972 - val_loss: 0.4446 - val_categorical_accuracy: 0.8462 - val_top_2_acc: 0.9548 - val_top_3_acc: 0.9860 - lr: 1.0000e-05\n",
            "Epoch 23/100\n",
            "907/907 [==============================] - ETA: 0s - loss: 0.1566 - categorical_accuracy: 0.9433 - top_2_acc: 0.9913 - top_3_acc: 0.9986\n",
            "Epoch 23: val_categorical_accuracy did not improve from 0.86022\n",
            "907/907 [==============================] - 196s 216ms/step - loss: 0.1566 - categorical_accuracy: 0.9433 - top_2_acc: 0.9913 - top_3_acc: 0.9986 - val_loss: 0.4290 - val_categorical_accuracy: 0.8516 - val_top_2_acc: 0.9570 - val_top_3_acc: 0.9882 - lr: 1.0000e-05\n",
            "Epoch 24/100\n",
            "907/907 [==============================] - ETA: 0s - loss: 0.1479 - categorical_accuracy: 0.9496 - top_2_acc: 0.9908 - top_3_acc: 0.9980\n",
            "Epoch 24: val_categorical_accuracy did not improve from 0.86022\n",
            "907/907 [==============================] - 195s 215ms/step - loss: 0.1479 - categorical_accuracy: 0.9496 - top_2_acc: 0.9908 - top_3_acc: 0.9980 - val_loss: 0.4388 - val_categorical_accuracy: 0.8559 - val_top_2_acc: 0.9559 - val_top_3_acc: 0.9903 - lr: 1.0000e-05\n",
            "Epoch 25/100\n",
            "907/907 [==============================] - ETA: 0s - loss: 0.1468 - categorical_accuracy: 0.9453 - top_2_acc: 0.9921 - top_3_acc: 0.9988\n",
            "Epoch 25: val_categorical_accuracy did not improve from 0.86022\n",
            "907/907 [==============================] - 194s 213ms/step - loss: 0.1468 - categorical_accuracy: 0.9453 - top_2_acc: 0.9921 - top_3_acc: 0.9988 - val_loss: 0.4492 - val_categorical_accuracy: 0.8462 - val_top_2_acc: 0.9484 - val_top_3_acc: 0.9828 - lr: 1.0000e-05\n",
            "Epoch 26/100\n",
            "907/907 [==============================] - ETA: 0s - loss: 0.1394 - categorical_accuracy: 0.9515 - top_2_acc: 0.9926 - top_3_acc: 0.9989\n",
            "Epoch 26: val_categorical_accuracy did not improve from 0.86022\n",
            "907/907 [==============================] - 194s 214ms/step - loss: 0.1394 - categorical_accuracy: 0.9515 - top_2_acc: 0.9926 - top_3_acc: 0.9989 - val_loss: 0.4531 - val_categorical_accuracy: 0.8591 - val_top_2_acc: 0.9462 - val_top_3_acc: 0.9806 - lr: 1.0000e-05\n",
            "Epoch 27/100\n",
            "907/907 [==============================] - ETA: 0s - loss: 0.1460 - categorical_accuracy: 0.9485 - top_2_acc: 0.9931 - top_3_acc: 0.9982\n",
            "Epoch 27: val_categorical_accuracy did not improve from 0.86022\n",
            "907/907 [==============================] - 196s 216ms/step - loss: 0.1460 - categorical_accuracy: 0.9485 - top_2_acc: 0.9931 - top_3_acc: 0.9982 - val_loss: 0.4622 - val_categorical_accuracy: 0.8473 - val_top_2_acc: 0.9548 - val_top_3_acc: 0.9860 - lr: 1.0000e-05\n",
            "Epoch 28/100\n",
            "907/907 [==============================] - ETA: 0s - loss: 0.1390 - categorical_accuracy: 0.9506 - top_2_acc: 0.9931 - top_3_acc: 0.9988\n",
            "Epoch 28: val_categorical_accuracy did not improve from 0.86022\n",
            "907/907 [==============================] - 193s 212ms/step - loss: 0.1390 - categorical_accuracy: 0.9506 - top_2_acc: 0.9931 - top_3_acc: 0.9988 - val_loss: 0.4632 - val_categorical_accuracy: 0.8505 - val_top_2_acc: 0.9538 - val_top_3_acc: 0.9849 - lr: 1.0000e-05\n",
            "Epoch 29/100\n",
            "907/907 [==============================] - ETA: 0s - loss: 0.1356 - categorical_accuracy: 0.9509 - top_2_acc: 0.9948 - top_3_acc: 0.9990\n",
            "Epoch 29: val_categorical_accuracy did not improve from 0.86022\n",
            "907/907 [==============================] - 193s 212ms/step - loss: 0.1356 - categorical_accuracy: 0.9509 - top_2_acc: 0.9948 - top_3_acc: 0.9990 - val_loss: 0.4489 - val_categorical_accuracy: 0.8398 - val_top_2_acc: 0.9548 - val_top_3_acc: 0.9817 - lr: 1.0000e-05\n",
            "Epoch 30/100\n",
            "907/907 [==============================] - ETA: 0s - loss: 0.1245 - categorical_accuracy: 0.9551 - top_2_acc: 0.9936 - top_3_acc: 0.9990\n",
            "Epoch 30: val_categorical_accuracy did not improve from 0.86022\n",
            "907/907 [==============================] - 193s 213ms/step - loss: 0.1245 - categorical_accuracy: 0.9551 - top_2_acc: 0.9936 - top_3_acc: 0.9990 - val_loss: 0.4745 - val_categorical_accuracy: 0.8484 - val_top_2_acc: 0.9527 - val_top_3_acc: 0.9882 - lr: 1.0000e-05\n",
            "Epoch 31/100\n",
            "907/907 [==============================] - ETA: 0s - loss: 0.1255 - categorical_accuracy: 0.9533 - top_2_acc: 0.9953 - top_3_acc: 0.9990\n",
            "Epoch 31: val_categorical_accuracy did not improve from 0.86022\n",
            "907/907 [==============================] - 196s 216ms/step - loss: 0.1255 - categorical_accuracy: 0.9533 - top_2_acc: 0.9953 - top_3_acc: 0.9990 - val_loss: 0.4387 - val_categorical_accuracy: 0.8548 - val_top_2_acc: 0.9559 - val_top_3_acc: 0.9817 - lr: 1.0000e-05\n",
            "Epoch 32/100\n",
            "907/907 [==============================] - ETA: 0s - loss: 0.1248 - categorical_accuracy: 0.9553 - top_2_acc: 0.9944 - top_3_acc: 0.9990\n",
            "Epoch 32: val_categorical_accuracy did not improve from 0.86022\n",
            "907/907 [==============================] - 192s 212ms/step - loss: 0.1248 - categorical_accuracy: 0.9553 - top_2_acc: 0.9944 - top_3_acc: 0.9990 - val_loss: 0.4257 - val_categorical_accuracy: 0.8570 - val_top_2_acc: 0.9473 - val_top_3_acc: 0.9817 - lr: 1.0000e-05\n",
            "Epoch 33/100\n",
            "907/907 [==============================] - ETA: 0s - loss: 0.1225 - categorical_accuracy: 0.9569 - top_2_acc: 0.9942 - top_3_acc: 0.9993\n",
            "Epoch 33: val_categorical_accuracy did not improve from 0.86022\n",
            "907/907 [==============================] - 192s 212ms/step - loss: 0.1225 - categorical_accuracy: 0.9569 - top_2_acc: 0.9942 - top_3_acc: 0.9993 - val_loss: 0.4787 - val_categorical_accuracy: 0.8441 - val_top_2_acc: 0.9570 - val_top_3_acc: 0.9796 - lr: 1.0000e-05\n",
            "Epoch 34/100\n",
            "907/907 [==============================] - ETA: 0s - loss: 0.1220 - categorical_accuracy: 0.9590 - top_2_acc: 0.9942 - top_3_acc: 0.9985\n",
            "Epoch 34: val_categorical_accuracy did not improve from 0.86022\n",
            "907/907 [==============================] - 193s 212ms/step - loss: 0.1220 - categorical_accuracy: 0.9590 - top_2_acc: 0.9942 - top_3_acc: 0.9985 - val_loss: 0.4479 - val_categorical_accuracy: 0.8559 - val_top_2_acc: 0.9473 - val_top_3_acc: 0.9839 - lr: 1.0000e-05\n",
            "Epoch 35/100\n",
            "907/907 [==============================] - ETA: 0s - loss: 0.1160 - categorical_accuracy: 0.9584 - top_2_acc: 0.9950 - top_3_acc: 0.9992\n",
            "Epoch 35: val_categorical_accuracy did not improve from 0.86022\n",
            "907/907 [==============================] - 191s 210ms/step - loss: 0.1160 - categorical_accuracy: 0.9584 - top_2_acc: 0.9950 - top_3_acc: 0.9992 - val_loss: 0.4490 - val_categorical_accuracy: 0.8602 - val_top_2_acc: 0.9613 - val_top_3_acc: 0.9871 - lr: 1.0000e-05\n",
            "Epoch 36/100\n",
            "907/907 [==============================] - ETA: 0s - loss: 0.1225 - categorical_accuracy: 0.9558 - top_2_acc: 0.9937 - top_3_acc: 0.9985\n",
            "Epoch 36: val_categorical_accuracy did not improve from 0.86022\n",
            "907/907 [==============================] - 192s 212ms/step - loss: 0.1225 - categorical_accuracy: 0.9558 - top_2_acc: 0.9937 - top_3_acc: 0.9985 - val_loss: 0.4636 - val_categorical_accuracy: 0.8516 - val_top_2_acc: 0.9462 - val_top_3_acc: 0.9849 - lr: 1.0000e-05\n",
            "Epoch 37/100\n",
            "907/907 [==============================] - ETA: 0s - loss: 0.1077 - categorical_accuracy: 0.9619 - top_2_acc: 0.9957 - top_3_acc: 0.9997\n",
            "Epoch 37: val_categorical_accuracy improved from 0.86022 to 0.86774, saving model to model.h5\n",
            "907/907 [==============================] - 194s 214ms/step - loss: 0.1077 - categorical_accuracy: 0.9619 - top_2_acc: 0.9957 - top_3_acc: 0.9997 - val_loss: 0.4412 - val_categorical_accuracy: 0.8677 - val_top_2_acc: 0.9505 - val_top_3_acc: 0.9860 - lr: 1.0000e-05\n",
            "Epoch 38/100\n",
            "907/907 [==============================] - ETA: 0s - loss: 0.1123 - categorical_accuracy: 0.9599 - top_2_acc: 0.9949 - top_3_acc: 0.9990\n",
            "Epoch 38: val_categorical_accuracy did not improve from 0.86774\n",
            "907/907 [==============================] - 193s 213ms/step - loss: 0.1123 - categorical_accuracy: 0.9599 - top_2_acc: 0.9949 - top_3_acc: 0.9990 - val_loss: 0.4624 - val_categorical_accuracy: 0.8527 - val_top_2_acc: 0.9505 - val_top_3_acc: 0.9817 - lr: 1.0000e-05\n",
            "Epoch 39/100\n",
            "907/907 [==============================] - ETA: 0s - loss: 0.1087 - categorical_accuracy: 0.9624 - top_2_acc: 0.9954 - top_3_acc: 0.9993\n",
            "Epoch 39: val_categorical_accuracy did not improve from 0.86774\n",
            "907/907 [==============================] - 191s 210ms/step - loss: 0.1087 - categorical_accuracy: 0.9624 - top_2_acc: 0.9954 - top_3_acc: 0.9993 - val_loss: 0.4289 - val_categorical_accuracy: 0.8570 - val_top_2_acc: 0.9645 - val_top_3_acc: 0.9903 - lr: 1.0000e-05\n",
            "Epoch 40/100\n",
            "907/907 [==============================] - ETA: 0s - loss: 0.0998 - categorical_accuracy: 0.9659 - top_2_acc: 0.9965 - top_3_acc: 1.0000\n",
            "Epoch 40: val_categorical_accuracy did not improve from 0.86774\n",
            "907/907 [==============================] - 203s 224ms/step - loss: 0.0998 - categorical_accuracy: 0.9659 - top_2_acc: 0.9965 - top_3_acc: 1.0000 - val_loss: 0.4514 - val_categorical_accuracy: 0.8473 - val_top_2_acc: 0.9559 - val_top_3_acc: 0.9828 - lr: 1.0000e-05\n",
            "Epoch 41/100\n",
            "907/907 [==============================] - ETA: 0s - loss: 0.0990 - categorical_accuracy: 0.9623 - top_2_acc: 0.9967 - top_3_acc: 0.9998\n",
            "Epoch 41: val_categorical_accuracy did not improve from 0.86774\n",
            "907/907 [==============================] - 203s 224ms/step - loss: 0.0990 - categorical_accuracy: 0.9623 - top_2_acc: 0.9967 - top_3_acc: 0.9998 - val_loss: 0.4815 - val_categorical_accuracy: 0.8559 - val_top_2_acc: 0.9495 - val_top_3_acc: 0.9839 - lr: 1.0000e-05\n",
            "Epoch 42/100\n",
            "907/907 [==============================] - ETA: 0s - loss: 0.0984 - categorical_accuracy: 0.9664 - top_2_acc: 0.9957 - top_3_acc: 0.9992\n",
            "Epoch 42: val_categorical_accuracy did not improve from 0.86774\n",
            "907/907 [==============================] - 223s 245ms/step - loss: 0.0984 - categorical_accuracy: 0.9664 - top_2_acc: 0.9957 - top_3_acc: 0.9992 - val_loss: 0.4801 - val_categorical_accuracy: 0.8516 - val_top_2_acc: 0.9484 - val_top_3_acc: 0.9828 - lr: 1.0000e-05\n",
            "Epoch 43/100\n",
            "907/907 [==============================] - ETA: 0s - loss: 0.0873 - categorical_accuracy: 0.9681 - top_2_acc: 0.9974 - top_3_acc: 0.9998\n",
            "Epoch 43: val_categorical_accuracy did not improve from 0.86774\n",
            "907/907 [==============================] - 196s 216ms/step - loss: 0.0873 - categorical_accuracy: 0.9681 - top_2_acc: 0.9974 - top_3_acc: 0.9998 - val_loss: 0.4551 - val_categorical_accuracy: 0.8452 - val_top_2_acc: 0.9624 - val_top_3_acc: 0.9839 - lr: 1.0000e-05\n",
            "Epoch 44/100\n",
            "907/907 [==============================] - ETA: 0s - loss: 0.0954 - categorical_accuracy: 0.9678 - top_2_acc: 0.9966 - top_3_acc: 0.9996\n",
            "Epoch 44: val_categorical_accuracy did not improve from 0.86774\n",
            "907/907 [==============================] - 192s 211ms/step - loss: 0.0954 - categorical_accuracy: 0.9678 - top_2_acc: 0.9966 - top_3_acc: 0.9996 - val_loss: 0.4398 - val_categorical_accuracy: 0.8538 - val_top_2_acc: 0.9645 - val_top_3_acc: 0.9860 - lr: 1.0000e-05\n",
            "Epoch 45/100\n",
            "907/907 [==============================] - ETA: 0s - loss: 0.0895 - categorical_accuracy: 0.9690 - top_2_acc: 0.9967 - top_3_acc: 0.9997\n",
            "Epoch 45: val_categorical_accuracy did not improve from 0.86774\n",
            "907/907 [==============================] - 191s 210ms/step - loss: 0.0895 - categorical_accuracy: 0.9690 - top_2_acc: 0.9967 - top_3_acc: 0.9997 - val_loss: 0.4325 - val_categorical_accuracy: 0.8581 - val_top_2_acc: 0.9548 - val_top_3_acc: 0.9849 - lr: 1.0000e-05\n",
            "Epoch 46/100\n",
            "907/907 [==============================] - ETA: 0s - loss: 0.0845 - categorical_accuracy: 0.9692 - top_2_acc: 0.9976 - top_3_acc: 0.9997\n",
            "Epoch 46: val_categorical_accuracy did not improve from 0.86774\n",
            "907/907 [==============================] - 192s 212ms/step - loss: 0.0845 - categorical_accuracy: 0.9692 - top_2_acc: 0.9976 - top_3_acc: 0.9997 - val_loss: 0.4301 - val_categorical_accuracy: 0.8602 - val_top_2_acc: 0.9559 - val_top_3_acc: 0.9871 - lr: 1.0000e-05\n",
            "Epoch 47/100\n",
            "907/907 [==============================] - ETA: 0s - loss: 0.0915 - categorical_accuracy: 0.9662 - top_2_acc: 0.9958 - top_3_acc: 0.9991\n",
            "Epoch 47: val_categorical_accuracy did not improve from 0.86774\n",
            "907/907 [==============================] - 191s 210ms/step - loss: 0.0915 - categorical_accuracy: 0.9662 - top_2_acc: 0.9958 - top_3_acc: 0.9991 - val_loss: 0.4092 - val_categorical_accuracy: 0.8656 - val_top_2_acc: 0.9548 - val_top_3_acc: 0.9860 - lr: 1.0000e-05\n",
            "Epoch 48/100\n",
            "907/907 [==============================] - ETA: 0s - loss: 0.0888 - categorical_accuracy: 0.9693 - top_2_acc: 0.9971 - top_3_acc: 0.9994\n",
            "Epoch 48: val_categorical_accuracy did not improve from 0.86774\n",
            "907/907 [==============================] - 202s 222ms/step - loss: 0.0888 - categorical_accuracy: 0.9693 - top_2_acc: 0.9971 - top_3_acc: 0.9994 - val_loss: 0.4723 - val_categorical_accuracy: 0.8538 - val_top_2_acc: 0.9473 - val_top_3_acc: 0.9860 - lr: 1.0000e-05\n",
            "Epoch 49/100\n",
            "907/907 [==============================] - ETA: 0s - loss: 0.0870 - categorical_accuracy: 0.9689 - top_2_acc: 0.9963 - top_3_acc: 0.9994\n",
            "Epoch 49: val_categorical_accuracy did not improve from 0.86774\n",
            "907/907 [==============================] - 202s 223ms/step - loss: 0.0870 - categorical_accuracy: 0.9689 - top_2_acc: 0.9963 - top_3_acc: 0.9994 - val_loss: 0.4610 - val_categorical_accuracy: 0.8505 - val_top_2_acc: 0.9473 - val_top_3_acc: 0.9849 - lr: 1.0000e-05\n",
            "Epoch 50/100\n",
            "907/907 [==============================] - ETA: 0s - loss: 0.0831 - categorical_accuracy: 0.9733 - top_2_acc: 0.9975 - top_3_acc: 0.9999\n",
            "Epoch 50: val_categorical_accuracy did not improve from 0.86774\n",
            "907/907 [==============================] - 202s 223ms/step - loss: 0.0831 - categorical_accuracy: 0.9733 - top_2_acc: 0.9975 - top_3_acc: 0.9999 - val_loss: 0.4320 - val_categorical_accuracy: 0.8559 - val_top_2_acc: 0.9559 - val_top_3_acc: 0.9871 - lr: 1.0000e-05\n",
            "Epoch 51/100\n",
            "907/907 [==============================] - ETA: 0s - loss: 0.0792 - categorical_accuracy: 0.9714 - top_2_acc: 0.9975 - top_3_acc: 0.9997\n",
            "Epoch 51: val_categorical_accuracy did not improve from 0.86774\n",
            "907/907 [==============================] - 189s 208ms/step - loss: 0.0792 - categorical_accuracy: 0.9714 - top_2_acc: 0.9975 - top_3_acc: 0.9997 - val_loss: 0.4851 - val_categorical_accuracy: 0.8430 - val_top_2_acc: 0.9548 - val_top_3_acc: 0.9860 - lr: 1.0000e-05\n",
            "Epoch 52/100\n",
            "907/907 [==============================] - ETA: 0s - loss: 0.0764 - categorical_accuracy: 0.9739 - top_2_acc: 0.9976 - top_3_acc: 0.9994\n",
            "Epoch 52: val_categorical_accuracy did not improve from 0.86774\n",
            "907/907 [==============================] - 190s 210ms/step - loss: 0.0764 - categorical_accuracy: 0.9739 - top_2_acc: 0.9976 - top_3_acc: 0.9994 - val_loss: 0.4774 - val_categorical_accuracy: 0.8667 - val_top_2_acc: 0.9516 - val_top_3_acc: 0.9796 - lr: 1.0000e-05\n",
            "Epoch 53/100\n",
            "907/907 [==============================] - ETA: 0s - loss: 0.0817 - categorical_accuracy: 0.9708 - top_2_acc: 0.9974 - top_3_acc: 0.9991\n",
            "Epoch 53: val_categorical_accuracy did not improve from 0.86774\n",
            "907/907 [==============================] - 190s 209ms/step - loss: 0.0817 - categorical_accuracy: 0.9708 - top_2_acc: 0.9974 - top_3_acc: 0.9991 - val_loss: 0.4761 - val_categorical_accuracy: 0.8667 - val_top_2_acc: 0.9548 - val_top_3_acc: 0.9849 - lr: 1.0000e-05\n",
            "Epoch 54/100\n",
            "907/907 [==============================] - ETA: 0s - loss: 0.0865 - categorical_accuracy: 0.9703 - top_2_acc: 0.9971 - top_3_acc: 0.9991\n",
            "Epoch 54: val_categorical_accuracy did not improve from 0.86774\n",
            "907/907 [==============================] - 190s 209ms/step - loss: 0.0865 - categorical_accuracy: 0.9703 - top_2_acc: 0.9971 - top_3_acc: 0.9991 - val_loss: 0.4769 - val_categorical_accuracy: 0.8624 - val_top_2_acc: 0.9570 - val_top_3_acc: 0.9817 - lr: 1.0000e-05\n",
            "Epoch 55/100\n",
            "907/907 [==============================] - ETA: 0s - loss: 0.0800 - categorical_accuracy: 0.9717 - top_2_acc: 0.9972 - top_3_acc: 0.9994\n",
            "Epoch 55: val_categorical_accuracy did not improve from 0.86774\n",
            "907/907 [==============================] - 190s 209ms/step - loss: 0.0800 - categorical_accuracy: 0.9717 - top_2_acc: 0.9972 - top_3_acc: 0.9994 - val_loss: 0.4828 - val_categorical_accuracy: 0.8559 - val_top_2_acc: 0.9484 - val_top_3_acc: 0.9828 - lr: 1.0000e-05\n",
            "Epoch 56/100\n",
            "907/907 [==============================] - ETA: 0s - loss: 0.0756 - categorical_accuracy: 0.9720 - top_2_acc: 0.9978 - top_3_acc: 0.9998\n",
            "Epoch 56: val_categorical_accuracy did not improve from 0.86774\n",
            "907/907 [==============================] - 190s 209ms/step - loss: 0.0756 - categorical_accuracy: 0.9720 - top_2_acc: 0.9978 - top_3_acc: 0.9998 - val_loss: 0.4907 - val_categorical_accuracy: 0.8484 - val_top_2_acc: 0.9473 - val_top_3_acc: 0.9839 - lr: 1.0000e-05\n",
            "Epoch 57/100\n",
            "907/907 [==============================] - ETA: 0s - loss: 0.0748 - categorical_accuracy: 0.9727 - top_2_acc: 0.9985 - top_3_acc: 0.9998\n",
            "Epoch 57: val_categorical_accuracy did not improve from 0.86774\n",
            "907/907 [==============================] - 190s 209ms/step - loss: 0.0748 - categorical_accuracy: 0.9727 - top_2_acc: 0.9985 - top_3_acc: 0.9998 - val_loss: 0.4882 - val_categorical_accuracy: 0.8624 - val_top_2_acc: 0.9581 - val_top_3_acc: 0.9871 - lr: 1.0000e-05\n",
            "Epoch 58/100\n",
            "907/907 [==============================] - ETA: 0s - loss: 0.0746 - categorical_accuracy: 0.9719 - top_2_acc: 0.9972 - top_3_acc: 0.9996\n",
            "Epoch 58: val_categorical_accuracy did not improve from 0.86774\n",
            "907/907 [==============================] - 190s 209ms/step - loss: 0.0746 - categorical_accuracy: 0.9719 - top_2_acc: 0.9972 - top_3_acc: 0.9996 - val_loss: 0.4528 - val_categorical_accuracy: 0.8634 - val_top_2_acc: 0.9602 - val_top_3_acc: 0.9860 - lr: 1.0000e-05\n",
            "Epoch 59/100\n",
            "907/907 [==============================] - ETA: 0s - loss: 0.0735 - categorical_accuracy: 0.9741 - top_2_acc: 0.9976 - top_3_acc: 0.9997\n",
            "Epoch 59: val_categorical_accuracy did not improve from 0.86774\n",
            "907/907 [==============================] - 190s 209ms/step - loss: 0.0735 - categorical_accuracy: 0.9741 - top_2_acc: 0.9976 - top_3_acc: 0.9997 - val_loss: 0.4275 - val_categorical_accuracy: 0.8591 - val_top_2_acc: 0.9613 - val_top_3_acc: 0.9871 - lr: 1.0000e-05\n",
            "Epoch 60/100\n",
            "907/907 [==============================] - ETA: 0s - loss: 0.0749 - categorical_accuracy: 0.9714 - top_2_acc: 0.9969 - top_3_acc: 0.9996\n",
            "Epoch 60: val_categorical_accuracy did not improve from 0.86774\n",
            "907/907 [==============================] - 189s 209ms/step - loss: 0.0749 - categorical_accuracy: 0.9714 - top_2_acc: 0.9969 - top_3_acc: 0.9996 - val_loss: 0.4805 - val_categorical_accuracy: 0.8570 - val_top_2_acc: 0.9581 - val_top_3_acc: 0.9849 - lr: 1.0000e-05\n",
            "Epoch 61/100\n",
            "907/907 [==============================] - ETA: 0s - loss: 0.0715 - categorical_accuracy: 0.9733 - top_2_acc: 0.9981 - top_3_acc: 0.9996\n",
            "Epoch 61: val_categorical_accuracy did not improve from 0.86774\n",
            "907/907 [==============================] - 190s 209ms/step - loss: 0.0715 - categorical_accuracy: 0.9733 - top_2_acc: 0.9981 - top_3_acc: 0.9996 - val_loss: 0.4398 - val_categorical_accuracy: 0.8613 - val_top_2_acc: 0.9634 - val_top_3_acc: 0.9914 - lr: 1.0000e-05\n",
            "Epoch 62/100\n",
            "907/907 [==============================] - ETA: 0s - loss: 0.0672 - categorical_accuracy: 0.9752 - top_2_acc: 0.9979 - top_3_acc: 0.9998\n",
            "Epoch 62: val_categorical_accuracy did not improve from 0.86774\n",
            "907/907 [==============================] - 191s 211ms/step - loss: 0.0672 - categorical_accuracy: 0.9752 - top_2_acc: 0.9979 - top_3_acc: 0.9998 - val_loss: 0.4596 - val_categorical_accuracy: 0.8634 - val_top_2_acc: 0.9602 - val_top_3_acc: 0.9871 - lr: 1.0000e-05\n",
            "Epoch 63/100\n",
            "907/907 [==============================] - ETA: 0s - loss: 0.0706 - categorical_accuracy: 0.9750 - top_2_acc: 0.9985 - top_3_acc: 0.9997\n",
            "Epoch 63: val_categorical_accuracy did not improve from 0.86774\n",
            "907/907 [==============================] - 191s 211ms/step - loss: 0.0706 - categorical_accuracy: 0.9750 - top_2_acc: 0.9985 - top_3_acc: 0.9997 - val_loss: 0.4632 - val_categorical_accuracy: 0.8591 - val_top_2_acc: 0.9559 - val_top_3_acc: 0.9860 - lr: 1.0000e-05\n",
            "Epoch 64/100\n",
            "907/907 [==============================] - ETA: 0s - loss: 0.0714 - categorical_accuracy: 0.9749 - top_2_acc: 0.9977 - top_3_acc: 0.9992\n",
            "Epoch 64: val_categorical_accuracy did not improve from 0.86774\n",
            "907/907 [==============================] - 192s 211ms/step - loss: 0.0714 - categorical_accuracy: 0.9749 - top_2_acc: 0.9977 - top_3_acc: 0.9992 - val_loss: 0.4372 - val_categorical_accuracy: 0.8656 - val_top_2_acc: 0.9559 - val_top_3_acc: 0.9828 - lr: 1.0000e-05\n",
            "Epoch 65/100\n",
            "907/907 [==============================] - ETA: 0s - loss: 0.0617 - categorical_accuracy: 0.9784 - top_2_acc: 0.9979 - top_3_acc: 0.9998\n",
            "Epoch 65: val_categorical_accuracy did not improve from 0.86774\n",
            "907/907 [==============================] - 192s 211ms/step - loss: 0.0617 - categorical_accuracy: 0.9784 - top_2_acc: 0.9979 - top_3_acc: 0.9998 - val_loss: 0.4501 - val_categorical_accuracy: 0.8602 - val_top_2_acc: 0.9570 - val_top_3_acc: 0.9828 - lr: 1.0000e-05\n",
            "Epoch 66/100\n",
            "907/907 [==============================] - ETA: 0s - loss: 0.0633 - categorical_accuracy: 0.9771 - top_2_acc: 0.9982 - top_3_acc: 0.9999\n",
            "Epoch 66: val_categorical_accuracy improved from 0.86774 to 0.87527, saving model to model.h5\n",
            "907/907 [==============================] - 196s 216ms/step - loss: 0.0633 - categorical_accuracy: 0.9771 - top_2_acc: 0.9982 - top_3_acc: 0.9999 - val_loss: 0.4537 - val_categorical_accuracy: 0.8753 - val_top_2_acc: 0.9624 - val_top_3_acc: 0.9871 - lr: 1.0000e-05\n",
            "Epoch 67/100\n",
            "907/907 [==============================] - ETA: 0s - loss: 0.0698 - categorical_accuracy: 0.9742 - top_2_acc: 0.9985 - top_3_acc: 0.9998\n",
            "Epoch 67: val_categorical_accuracy did not improve from 0.87527\n",
            "907/907 [==============================] - 194s 213ms/step - loss: 0.0698 - categorical_accuracy: 0.9742 - top_2_acc: 0.9985 - top_3_acc: 0.9998 - val_loss: 0.4585 - val_categorical_accuracy: 0.8634 - val_top_2_acc: 0.9591 - val_top_3_acc: 0.9860 - lr: 1.0000e-05\n",
            "Epoch 68/100\n",
            "907/907 [==============================] - ETA: 0s - loss: 0.0638 - categorical_accuracy: 0.9772 - top_2_acc: 0.9976 - top_3_acc: 1.0000\n",
            "Epoch 68: val_categorical_accuracy did not improve from 0.87527\n",
            "907/907 [==============================] - 193s 213ms/step - loss: 0.0638 - categorical_accuracy: 0.9772 - top_2_acc: 0.9976 - top_3_acc: 1.0000 - val_loss: 0.4672 - val_categorical_accuracy: 0.8591 - val_top_2_acc: 0.9591 - val_top_3_acc: 0.9882 - lr: 1.0000e-05\n",
            "Epoch 69/100\n",
            "907/907 [==============================] - ETA: 0s - loss: 0.0611 - categorical_accuracy: 0.9791 - top_2_acc: 0.9979 - top_3_acc: 0.9996\n",
            "Epoch 69: val_categorical_accuracy did not improve from 0.87527\n",
            "907/907 [==============================] - 193s 212ms/step - loss: 0.0611 - categorical_accuracy: 0.9791 - top_2_acc: 0.9979 - top_3_acc: 0.9996 - val_loss: 0.4667 - val_categorical_accuracy: 0.8613 - val_top_2_acc: 0.9548 - val_top_3_acc: 0.9860 - lr: 1.0000e-05\n",
            "Epoch 70/100\n",
            "907/907 [==============================] - ETA: 0s - loss: 0.0657 - categorical_accuracy: 0.9772 - top_2_acc: 0.9976 - top_3_acc: 0.9996\n",
            "Epoch 70: val_categorical_accuracy did not improve from 0.87527\n",
            "907/907 [==============================] - 191s 210ms/step - loss: 0.0657 - categorical_accuracy: 0.9772 - top_2_acc: 0.9976 - top_3_acc: 0.9996 - val_loss: 0.4435 - val_categorical_accuracy: 0.8645 - val_top_2_acc: 0.9548 - val_top_3_acc: 0.9849 - lr: 1.0000e-05\n",
            "Epoch 71/100\n",
            "907/907 [==============================] - ETA: 0s - loss: 0.0574 - categorical_accuracy: 0.9802 - top_2_acc: 0.9977 - top_3_acc: 0.9998\n",
            "Epoch 71: val_categorical_accuracy did not improve from 0.87527\n",
            "907/907 [==============================] - 191s 211ms/step - loss: 0.0574 - categorical_accuracy: 0.9802 - top_2_acc: 0.9977 - top_3_acc: 0.9998 - val_loss: 0.4766 - val_categorical_accuracy: 0.8624 - val_top_2_acc: 0.9634 - val_top_3_acc: 0.9839 - lr: 1.0000e-05\n",
            "Epoch 72/100\n",
            "907/907 [==============================] - ETA: 0s - loss: 0.0595 - categorical_accuracy: 0.9798 - top_2_acc: 0.9981 - top_3_acc: 0.9998\n",
            "Epoch 72: val_categorical_accuracy improved from 0.87527 to 0.87634, saving model to model.h5\n",
            "907/907 [==============================] - 195s 215ms/step - loss: 0.0595 - categorical_accuracy: 0.9798 - top_2_acc: 0.9981 - top_3_acc: 0.9998 - val_loss: 0.4399 - val_categorical_accuracy: 0.8763 - val_top_2_acc: 0.9602 - val_top_3_acc: 0.9882 - lr: 1.0000e-05\n",
            "Epoch 73/100\n",
            "907/907 [==============================] - ETA: 0s - loss: 0.0599 - categorical_accuracy: 0.9788 - top_2_acc: 0.9979 - top_3_acc: 0.9994\n",
            "Epoch 73: val_categorical_accuracy did not improve from 0.87634\n",
            "907/907 [==============================] - 192s 212ms/step - loss: 0.0599 - categorical_accuracy: 0.9788 - top_2_acc: 0.9979 - top_3_acc: 0.9994 - val_loss: 0.4846 - val_categorical_accuracy: 0.8570 - val_top_2_acc: 0.9495 - val_top_3_acc: 0.9839 - lr: 1.0000e-05\n",
            "Epoch 74/100\n",
            "907/907 [==============================] - ETA: 0s - loss: 0.0572 - categorical_accuracy: 0.9787 - top_2_acc: 0.9988 - top_3_acc: 0.9999\n",
            "Epoch 74: val_categorical_accuracy did not improve from 0.87634\n",
            "907/907 [==============================] - 193s 212ms/step - loss: 0.0572 - categorical_accuracy: 0.9787 - top_2_acc: 0.9988 - top_3_acc: 0.9999 - val_loss: 0.4388 - val_categorical_accuracy: 0.8591 - val_top_2_acc: 0.9581 - val_top_3_acc: 0.9817 - lr: 1.0000e-05\n",
            "Epoch 75/100\n",
            "907/907 [==============================] - ETA: 0s - loss: 0.0604 - categorical_accuracy: 0.9779 - top_2_acc: 0.9971 - top_3_acc: 0.9999\n",
            "Epoch 75: val_categorical_accuracy did not improve from 0.87634\n",
            "907/907 [==============================] - 191s 210ms/step - loss: 0.0604 - categorical_accuracy: 0.9779 - top_2_acc: 0.9971 - top_3_acc: 0.9999 - val_loss: 0.4545 - val_categorical_accuracy: 0.8591 - val_top_2_acc: 0.9667 - val_top_3_acc: 0.9849 - lr: 1.0000e-05\n",
            "Epoch 76/100\n",
            "907/907 [==============================] - ETA: 0s - loss: 0.0532 - categorical_accuracy: 0.9811 - top_2_acc: 0.9993 - top_3_acc: 0.9999\n",
            "Epoch 76: val_categorical_accuracy did not improve from 0.87634\n",
            "907/907 [==============================] - 192s 211ms/step - loss: 0.0532 - categorical_accuracy: 0.9811 - top_2_acc: 0.9993 - top_3_acc: 0.9999 - val_loss: 0.5272 - val_categorical_accuracy: 0.8581 - val_top_2_acc: 0.9516 - val_top_3_acc: 0.9839 - lr: 1.0000e-05\n",
            "Epoch 77/100\n",
            "907/907 [==============================] - ETA: 0s - loss: 0.0594 - categorical_accuracy: 0.9774 - top_2_acc: 0.9985 - top_3_acc: 0.9998\n",
            "Epoch 77: val_categorical_accuracy did not improve from 0.87634\n",
            "907/907 [==============================] - 192s 212ms/step - loss: 0.0594 - categorical_accuracy: 0.9774 - top_2_acc: 0.9985 - top_3_acc: 0.9998 - val_loss: 0.4668 - val_categorical_accuracy: 0.8688 - val_top_2_acc: 0.9624 - val_top_3_acc: 0.9849 - lr: 1.0000e-05\n",
            "Epoch 78/100\n",
            "907/907 [==============================] - ETA: 0s - loss: 0.0619 - categorical_accuracy: 0.9775 - top_2_acc: 0.9976 - top_3_acc: 0.9997\n",
            "Epoch 78: val_categorical_accuracy did not improve from 0.87634\n",
            "907/907 [==============================] - 193s 213ms/step - loss: 0.0619 - categorical_accuracy: 0.9775 - top_2_acc: 0.9976 - top_3_acc: 0.9997 - val_loss: 0.4546 - val_categorical_accuracy: 0.8688 - val_top_2_acc: 0.9613 - val_top_3_acc: 0.9892 - lr: 1.0000e-05\n",
            "Epoch 79/100\n",
            "907/907 [==============================] - ETA: 0s - loss: 0.0577 - categorical_accuracy: 0.9806 - top_2_acc: 0.9989 - top_3_acc: 0.9997\n",
            "Epoch 79: val_categorical_accuracy did not improve from 0.87634\n",
            "907/907 [==============================] - 193s 213ms/step - loss: 0.0577 - categorical_accuracy: 0.9806 - top_2_acc: 0.9989 - top_3_acc: 0.9997 - val_loss: 0.4279 - val_categorical_accuracy: 0.8667 - val_top_2_acc: 0.9602 - val_top_3_acc: 0.9860 - lr: 1.0000e-05\n",
            "Epoch 80/100\n",
            "907/907 [==============================] - ETA: 0s - loss: 0.0507 - categorical_accuracy: 0.9818 - top_2_acc: 0.9987 - top_3_acc: 1.0000\n",
            "Epoch 80: val_categorical_accuracy did not improve from 0.87634\n",
            "907/907 [==============================] - 193s 213ms/step - loss: 0.0507 - categorical_accuracy: 0.9818 - top_2_acc: 0.9987 - top_3_acc: 1.0000 - val_loss: 0.4629 - val_categorical_accuracy: 0.8677 - val_top_2_acc: 0.9591 - val_top_3_acc: 0.9882 - lr: 1.0000e-05\n",
            "Epoch 81/100\n",
            "907/907 [==============================] - ETA: 0s - loss: 0.0520 - categorical_accuracy: 0.9826 - top_2_acc: 0.9988 - top_3_acc: 0.9999\n",
            "Epoch 81: val_categorical_accuracy did not improve from 0.87634\n",
            "907/907 [==============================] - 192s 212ms/step - loss: 0.0520 - categorical_accuracy: 0.9826 - top_2_acc: 0.9988 - top_3_acc: 0.9999 - val_loss: 0.4611 - val_categorical_accuracy: 0.8699 - val_top_2_acc: 0.9548 - val_top_3_acc: 0.9817 - lr: 1.0000e-05\n",
            "Epoch 82/100\n",
            "907/907 [==============================] - ETA: 0s - loss: 0.0576 - categorical_accuracy: 0.9805 - top_2_acc: 0.9986 - top_3_acc: 0.9997\n",
            "Epoch 82: val_categorical_accuracy did not improve from 0.87634\n",
            "907/907 [==============================] - 193s 212ms/step - loss: 0.0576 - categorical_accuracy: 0.9805 - top_2_acc: 0.9986 - top_3_acc: 0.9997 - val_loss: 0.4798 - val_categorical_accuracy: 0.8634 - val_top_2_acc: 0.9538 - val_top_3_acc: 0.9828 - lr: 1.0000e-05\n",
            "Epoch 83/100\n",
            "907/907 [==============================] - ETA: 0s - loss: 0.0520 - categorical_accuracy: 0.9810 - top_2_acc: 0.9986 - top_3_acc: 0.9999\n",
            "Epoch 83: val_categorical_accuracy did not improve from 0.87634\n",
            "907/907 [==============================] - 193s 212ms/step - loss: 0.0520 - categorical_accuracy: 0.9810 - top_2_acc: 0.9986 - top_3_acc: 0.9999 - val_loss: 0.5007 - val_categorical_accuracy: 0.8699 - val_top_2_acc: 0.9548 - val_top_3_acc: 0.9774 - lr: 1.0000e-05\n",
            "Epoch 84/100\n",
            "907/907 [==============================] - ETA: 0s - loss: 0.0487 - categorical_accuracy: 0.9822 - top_2_acc: 0.9996 - top_3_acc: 0.9999\n",
            "Epoch 84: val_categorical_accuracy did not improve from 0.87634\n",
            "907/907 [==============================] - 193s 213ms/step - loss: 0.0487 - categorical_accuracy: 0.9822 - top_2_acc: 0.9996 - top_3_acc: 0.9999 - val_loss: 0.4854 - val_categorical_accuracy: 0.8656 - val_top_2_acc: 0.9602 - val_top_3_acc: 0.9839 - lr: 1.0000e-05\n",
            "Epoch 85/100\n",
            "907/907 [==============================] - ETA: 0s - loss: 0.0554 - categorical_accuracy: 0.9798 - top_2_acc: 0.9990 - top_3_acc: 0.9997\n",
            "Epoch 85: val_categorical_accuracy did not improve from 0.87634\n",
            "907/907 [==============================] - 195s 215ms/step - loss: 0.0554 - categorical_accuracy: 0.9798 - top_2_acc: 0.9990 - top_3_acc: 0.9997 - val_loss: 0.4690 - val_categorical_accuracy: 0.8753 - val_top_2_acc: 0.9559 - val_top_3_acc: 0.9839 - lr: 1.0000e-05\n"
          ]
        }
      ]
    },
    {
      "cell_type": "code",
      "source": [
        "val_loss, val_cat_acc, val_top_2_acc, val_top_3_acc = \\\n",
        "model.evaluate_generator(test_flow, \n",
        "                        steps=len(test_flow))\n",
        "\n",
        "print('val_loss:', val_loss)\n",
        "print('val_cat_acc:', val_cat_acc)\n",
        "print('val_top_2_acc:', val_top_2_acc)\n",
        "print('val_top_3_acc:', val_top_3_acc)"
      ],
      "metadata": {
        "id": "twp_NoXhjFRn"
      },
      "execution_count": null,
      "outputs": []
    },
    {
      "cell_type": "markdown",
      "source": [
        "## Evaluate the Model"
      ],
      "metadata": {
        "id": "-LWXG27NvmB6"
      }
    },
    {
      "cell_type": "code",
      "source": [
        "y_test_true = test_flow.classes\n",
        "y_test_pred = np.argmax(model.predict_generator(test_flow, steps=len(test_flow)), axis=1)"
      ],
      "metadata": {
        "id": "ziGpAalNtQ71"
      },
      "execution_count": null,
      "outputs": []
    },
    {
      "cell_type": "code",
      "source": [
        "loss_train = history.history[\"loss\"]\n",
        "acc_train = history.history[\"categorical_accuracy\"]\n",
        "loss_val = history.history[\"val_loss\"]\n",
        "acc_val = history.history[\"val_categorical_accuracy\"]\n",
        "epochs = np.arange(1, len(loss_train) + 1)"
      ],
      "metadata": {
        "id": "ms5QBUlBtft1"
      },
      "execution_count": null,
      "outputs": []
    },
    {
      "cell_type": "code",
      "source": [
        "classes = {4: ('nv', ' melanocytic nevi'),\n",
        "           6: ('mel', 'melanoma'),\n",
        "           2 :('bkl', 'benign keratosis-like lesions'), \n",
        "           1:('bcc' , ' basal cell carcinoma'),\n",
        "           5: ('vasc', ' pyogenic granulomas and hemorrhage'),\n",
        "           0: ('akiec', 'Actinic keratoses and intraepithelial carcinomae'),\n",
        "           3: ('df', 'dermatofibroma')}"
      ],
      "metadata": {
        "id": "OJP0d25Qtr7w"
      },
      "execution_count": null,
      "outputs": []
    },
    {
      "cell_type": "markdown",
      "source": [
        "------------------------------------------------------------------------------------------------------------------------------------------------------------------------------------------------------------------------------------------------"
      ],
      "metadata": {
        "id": "D8FxRRgt2k4R"
      }
    },
    {
      "cell_type": "markdown",
      "source": [
        "### Confusion Matrix"
      ],
      "metadata": {
        "id": "BuP-Aettv2_-"
      }
    },
    {
      "cell_type": "code",
      "source": [
        "from sklearn.metrics import classification_report\n",
        "\n",
        "target_names = [f\"{classes[i]}\" for i in range(7)]\n",
        "print(classification_report(y_test_true , y_test_pred , target_names =target_names ))"
      ],
      "metadata": {
        "id": "jhbN3KiRtvAG"
      },
      "execution_count": null,
      "outputs": []
    },
    {
      "cell_type": "code",
      "source": [
        "import seaborn as sns\n",
        "\n",
        "cm = confusion_matrix(y_test_true, y_test_pred)\n",
        "cm = pd.DataFrame(cm , index = [i for i in range(7)] , columns = [i for i in range(7)])\n",
        "plt.figure(figsize = (10,10))\n",
        "sns.heatmap(cm,cmap= \"Blues\", linecolor = 'black' , linewidth = 1 , annot = True, fmt='')\n",
        "plt.savefig(\"confusion_matrix.svg\")"
      ],
      "metadata": {
        "id": "Un3eBPb5twf1"
      },
      "execution_count": null,
      "outputs": []
    },
    {
      "cell_type": "code",
      "source": [
        "conf_mat = confusion_matrix(y_test_true, y_test_pred)\n",
        "plt.imshow(conf_mat, cmap=plt.cm.Blues)\n",
        "plt.title(\"Confusion matrix\")\n",
        "plt.colorbar()\n",
        "tick_marks = np.arange(len(labels))\n",
        "plt.xticks(tick_marks, labels, rotation=45)\n",
        "plt.yticks(tick_marks, labels)\n",
        "plt.ylabel(\"y_true\")\n",
        "plt.xlabel(\"y_pred\")\n",
        "plt.tight_layout()"
      ],
      "metadata": {
        "id": "UcQyoCKCuILl"
      },
      "execution_count": null,
      "outputs": []
    },
    {
      "cell_type": "markdown",
      "source": [
        "------------------------------------------------------------------------------------------------------------------------------------------------------------------------------------------------------------------------------------------------"
      ],
      "metadata": {
        "id": "M99AnJgk2mov"
      }
    },
    {
      "cell_type": "markdown",
      "source": [
        "### Plot the Trainning Curves"
      ],
      "metadata": {
        "id": "J7r_8et9wEmn"
      }
    },
    {
      "cell_type": "code",
      "source": [
        "import matplotlib.pyplot as plt\n",
        "\n",
        "acc = history.history['categorical_accuracy']\n",
        "val_acc = history.history['val_categorical_accuracy']\n",
        "loss = history.history['loss']\n",
        "val_loss = history.history['val_loss']\n",
        "train_top2_acc = history.history['top_2_acc']\n",
        "val_top2_acc = history.history['val_top_2_acc']\n",
        "train_top3_acc = history.history['top_3_acc']\n",
        "val_top3_acc = history.history['val_top_3_acc']\n",
        "epochs = range(1, len(acc) + 1)"
      ],
      "metadata": {
        "id": "d-WatbCuuUqW"
      },
      "execution_count": null,
      "outputs": []
    },
    {
      "cell_type": "code",
      "source": [
        "plt.plot(epochs, loss, 'bo', label='Training loss')\n",
        "plt.plot(epochs, val_loss, 'b', label='Validation loss')\n",
        "plt.title('Training and validation loss')\n",
        "plt.legend()\n",
        "plt.savefig(\"loss.svg\")\n",
        "plt.figure()\n",
        "plt.show()"
      ],
      "metadata": {
        "id": "6eeF7mIIuW0T"
      },
      "execution_count": null,
      "outputs": []
    },
    {
      "cell_type": "code",
      "source": [
        "plt.plot(epochs, acc, 'bo', label='Training cat acc')\n",
        "plt.plot(epochs, val_acc, 'b', label='Validation cat acc')\n",
        "plt.title('Training and validation cat accuracy')\n",
        "plt.legend()\n",
        "plt.savefig(\"cat_acc.svg\")\n",
        "plt.figure()\n",
        "plt.show()"
      ],
      "metadata": {
        "id": "JC9v64ZCuYf8"
      },
      "execution_count": null,
      "outputs": []
    },
    {
      "cell_type": "code",
      "source": [
        "plt.plot(epochs, train_top2_acc, 'bo', label='Training top2 acc')\n",
        "plt.plot(epochs, val_top2_acc, 'b', label='Validation top2 acc')\n",
        "plt.title('Training and validation top2 accuracy')\n",
        "plt.legend()\n",
        "plt.savefig(\"top2.svg\")\n",
        "plt.figure()\n",
        "plt.show()"
      ],
      "metadata": {
        "id": "LgOyz6cxubro"
      },
      "execution_count": null,
      "outputs": []
    },
    {
      "cell_type": "code",
      "source": [
        "plt.plot(epochs, train_top3_acc, 'bo', label='Training top3 acc')\n",
        "plt.plot(epochs, val_top3_acc, 'b', label='Validation top3 acc')\n",
        "plt.title('Training and validation top3 accuracy')\n",
        "plt.legend()\n",
        "plt.savefig(\"top3.svg\")\n",
        "plt.figure()\n",
        "plt.show()"
      ],
      "metadata": {
        "id": "hakNEDdOuisy"
      },
      "execution_count": null,
      "outputs": []
    },
    {
      "cell_type": "code",
      "source": [
        "model.save('model-ResNet50.h5')"
      ],
      "metadata": {
        "id": "L_mA8f4QukK5"
      },
      "execution_count": null,
      "outputs": []
    },
    {
      "cell_type": "code",
      "source": [
        "model_json = model.to_json()\n",
        "with open(\"model-ResNet50.json\", \"w\") as json_file:\n",
        "    json_file.write(model_json)"
      ],
      "metadata": {
        "id": "ZfmQod4rusW6"
      },
      "execution_count": null,
      "outputs": []
    },
    {
      "cell_type": "code",
      "source": [
        ""
      ],
      "metadata": {
        "id": "SyELIj36H2ZX"
      },
      "execution_count": null,
      "outputs": []
    }
  ]
}